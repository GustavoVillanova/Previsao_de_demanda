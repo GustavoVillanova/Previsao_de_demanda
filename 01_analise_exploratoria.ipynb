{
 "cells": [
  {
   "cell_type": "markdown",
   "id": "7b45f7fe",
   "metadata": {},
   "source": [
    "## Introdução\n",
    "Este arquivo tem como objetivo realizar uma análise exploratória dos dados para compreender melhor suas características e estrutura. O trabalho está dividido em quatro etapas principais:\n",
    "\n",
    "1. Exploração Inicial: Entendimento básico dos dados e suas variáveis.\n",
    "\n",
    "2. Limpeza e Tratamento: Ajuste e correção dos dados para garantir a qualidade da análise.\n",
    "\n",
    "3. Análise das Categorias: Estudo detalhado das variáveis categóricas e sua influência no faturamento.\n",
    "\n",
    "4. Análise Temporal: Investigação das séries temporais para identificar tendências e padrões ao longo do tempo."
   ]
  },
  {
   "cell_type": "markdown",
   "id": "4d162f82",
   "metadata": {},
   "source": [
    "------------------------------"
   ]
  },
  {
   "cell_type": "markdown",
   "id": "eca673ff",
   "metadata": {},
   "source": [
    "## 1. Exploração Inicial"
   ]
  },
  {
   "cell_type": "markdown",
   "id": "fee910d7",
   "metadata": {},
   "source": [
    "#### 1.1 Importar bibliotecas essenciais\n"
   ]
  },
  {
   "cell_type": "code",
   "execution_count": 4,
   "id": "51c32394",
   "metadata": {},
   "outputs": [
    {
     "data": {
      "text/plain": [
       "<Figure size 1400x700 with 0 Axes>"
      ]
     },
     "metadata": {},
     "output_type": "display_data"
    }
   ],
   "source": [
    "import pandas as pd\n",
    "import numpy as np\n",
    "import matplotlib.pyplot as plt\n",
    "import seaborn as sns\n",
    "sns.set(style=\"whitegrid\")\n",
    "plt.rcParams[\"figure.figsize\"] = (12, 6)\n",
    "plt.figure(figsize=(14,7))\n",
    "import plotly.express as px\n",
    "import plotly.graph_objects as go"
   ]
  },
  {
   "cell_type": "markdown",
   "id": "7f7af79e",
   "metadata": {},
   "source": [
    "#### 1.2 Carregamento dos Dados"
   ]
  },
  {
   "cell_type": "code",
   "execution_count": 5,
   "id": "42f28fb4",
   "metadata": {},
   "outputs": [
    {
     "data": {
      "text/html": [
       "<div>\n",
       "<style scoped>\n",
       "    .dataframe tbody tr th:only-of-type {\n",
       "        vertical-align: middle;\n",
       "    }\n",
       "\n",
       "    .dataframe tbody tr th {\n",
       "        vertical-align: top;\n",
       "    }\n",
       "\n",
       "    .dataframe thead th {\n",
       "        text-align: right;\n",
       "    }\n",
       "</style>\n",
       "<table border=\"1\" class=\"dataframe\">\n",
       "  <thead>\n",
       "    <tr style=\"text-align: right;\">\n",
       "      <th></th>\n",
       "      <th>COD_CICLO</th>\n",
       "      <th>FLG_DATA</th>\n",
       "      <th>COD_MATERIAL</th>\n",
       "      <th>COD_CANAL</th>\n",
       "      <th>DES_CATEGORIA_MATERIAL</th>\n",
       "      <th>DES_MARCA_MATERIAL</th>\n",
       "      <th>COD_REGIAO</th>\n",
       "      <th>QT_VENDA_BRUTO</th>\n",
       "      <th>QT_DEVOLUCAO</th>\n",
       "      <th>VL_RECEITA_BRUTA</th>\n",
       "      <th>VL_RECEITA_LIQUIDA</th>\n",
       "      <th>FLG_CAMPANHA_MKT_A</th>\n",
       "      <th>FLG_CAMPANHA_MKT_B</th>\n",
       "      <th>FLG_CAMPANHA_MKT_C</th>\n",
       "      <th>FLG_CAMPANHA_MKT_D</th>\n",
       "      <th>FLG_CAMPANHA_MKT_E</th>\n",
       "      <th>PCT_DESCONTO</th>\n",
       "      <th>VL_PRECO</th>\n",
       "    </tr>\n",
       "  </thead>\n",
       "  <tbody>\n",
       "    <tr>\n",
       "      <th>0</th>\n",
       "      <td>201917</td>\n",
       "      <td>1</td>\n",
       "      <td>431148</td>\n",
       "      <td>anon_S0</td>\n",
       "      <td>anon_S2</td>\n",
       "      <td>anon_S3</td>\n",
       "      <td>anon_S1</td>\n",
       "      <td>11934.0</td>\n",
       "      <td>414.0</td>\n",
       "      <td>431869.08</td>\n",
       "      <td>431869.08</td>\n",
       "      <td>0</td>\n",
       "      <td>0</td>\n",
       "      <td>0</td>\n",
       "      <td>0</td>\n",
       "      <td>0</td>\n",
       "      <td>NaN</td>\n",
       "      <td>455.4</td>\n",
       "    </tr>\n",
       "    <tr>\n",
       "      <th>1</th>\n",
       "      <td>202005</td>\n",
       "      <td>0</td>\n",
       "      <td>177816</td>\n",
       "      <td>anon_S0</td>\n",
       "      <td>anon_S2</td>\n",
       "      <td>anon_S4</td>\n",
       "      <td>anon_S1</td>\n",
       "      <td>540.0</td>\n",
       "      <td>252.0</td>\n",
       "      <td>27743.40</td>\n",
       "      <td>27743.40</td>\n",
       "      <td>0</td>\n",
       "      <td>0</td>\n",
       "      <td>0</td>\n",
       "      <td>0</td>\n",
       "      <td>0</td>\n",
       "      <td>NaN</td>\n",
       "      <td>773.4</td>\n",
       "    </tr>\n",
       "    <tr>\n",
       "      <th>2</th>\n",
       "      <td>201901</td>\n",
       "      <td>0</td>\n",
       "      <td>171786</td>\n",
       "      <td>anon_S0</td>\n",
       "      <td>anon_S5</td>\n",
       "      <td>anon_S6</td>\n",
       "      <td>anon_S1</td>\n",
       "      <td>54012.0</td>\n",
       "      <td>1410.0</td>\n",
       "      <td>962860.20</td>\n",
       "      <td>962860.20</td>\n",
       "      <td>0</td>\n",
       "      <td>1</td>\n",
       "      <td>0</td>\n",
       "      <td>0</td>\n",
       "      <td>0</td>\n",
       "      <td>35.0</td>\n",
       "      <td>341.4</td>\n",
       "    </tr>\n",
       "    <tr>\n",
       "      <th>3</th>\n",
       "      <td>201813</td>\n",
       "      <td>0</td>\n",
       "      <td>177774</td>\n",
       "      <td>anon_S7</td>\n",
       "      <td>anon_S2</td>\n",
       "      <td>anon_S8</td>\n",
       "      <td>anon_S1</td>\n",
       "      <td>438.0</td>\n",
       "      <td>NaN</td>\n",
       "      <td>7608.60</td>\n",
       "      <td>7608.60</td>\n",
       "      <td>0</td>\n",
       "      <td>0</td>\n",
       "      <td>0</td>\n",
       "      <td>0</td>\n",
       "      <td>0</td>\n",
       "      <td>NaN</td>\n",
       "      <td>450.9</td>\n",
       "    </tr>\n",
       "    <tr>\n",
       "      <th>4</th>\n",
       "      <td>202006</td>\n",
       "      <td>1</td>\n",
       "      <td>446592</td>\n",
       "      <td>anon_S0</td>\n",
       "      <td>anon_S5</td>\n",
       "      <td>anon_S9</td>\n",
       "      <td>anon_S1</td>\n",
       "      <td>2760.0</td>\n",
       "      <td>240.0</td>\n",
       "      <td>83339.40</td>\n",
       "      <td>83339.40</td>\n",
       "      <td>0</td>\n",
       "      <td>0</td>\n",
       "      <td>0</td>\n",
       "      <td>0</td>\n",
       "      <td>0</td>\n",
       "      <td>NaN</td>\n",
       "      <td>431.4</td>\n",
       "    </tr>\n",
       "  </tbody>\n",
       "</table>\n",
       "</div>"
      ],
      "text/plain": [
       "   COD_CICLO  FLG_DATA  COD_MATERIAL COD_CANAL DES_CATEGORIA_MATERIAL  \\\n",
       "0     201917         1        431148   anon_S0                anon_S2   \n",
       "1     202005         0        177816   anon_S0                anon_S2   \n",
       "2     201901         0        171786   anon_S0                anon_S5   \n",
       "3     201813         0        177774   anon_S7                anon_S2   \n",
       "4     202006         1        446592   anon_S0                anon_S5   \n",
       "\n",
       "  DES_MARCA_MATERIAL COD_REGIAO  QT_VENDA_BRUTO  QT_DEVOLUCAO  \\\n",
       "0            anon_S3    anon_S1         11934.0         414.0   \n",
       "1            anon_S4    anon_S1           540.0         252.0   \n",
       "2            anon_S6    anon_S1         54012.0        1410.0   \n",
       "3            anon_S8    anon_S1           438.0           NaN   \n",
       "4            anon_S9    anon_S1          2760.0         240.0   \n",
       "\n",
       "   VL_RECEITA_BRUTA  VL_RECEITA_LIQUIDA  FLG_CAMPANHA_MKT_A  \\\n",
       "0         431869.08           431869.08                   0   \n",
       "1          27743.40            27743.40                   0   \n",
       "2         962860.20           962860.20                   0   \n",
       "3           7608.60             7608.60                   0   \n",
       "4          83339.40            83339.40                   0   \n",
       "\n",
       "   FLG_CAMPANHA_MKT_B  FLG_CAMPANHA_MKT_C  FLG_CAMPANHA_MKT_D  \\\n",
       "0                   0                   0                   0   \n",
       "1                   0                   0                   0   \n",
       "2                   1                   0                   0   \n",
       "3                   0                   0                   0   \n",
       "4                   0                   0                   0   \n",
       "\n",
       "   FLG_CAMPANHA_MKT_E  PCT_DESCONTO  VL_PRECO  \n",
       "0                   0           NaN     455.4  \n",
       "1                   0           NaN     773.4  \n",
       "2                   0          35.0     341.4  \n",
       "3                   0           NaN     450.9  \n",
       "4                   0           NaN     431.4  "
      ]
     },
     "execution_count": 5,
     "metadata": {},
     "output_type": "execute_result"
    }
   ],
   "source": [
    "df = pd.read_csv('dataset.csv', sep=';', decimal=',')\n",
    "\n",
    "df.head()"
   ]
  },
  {
   "cell_type": "markdown",
   "id": "2e1422c2",
   "metadata": {},
   "source": [
    "#### 1.3 Dimensões e Tipos de Dados"
   ]
  },
  {
   "cell_type": "code",
   "execution_count": 6,
   "id": "f9056c1d",
   "metadata": {},
   "outputs": [
    {
     "name": "stdout",
     "output_type": "stream",
     "text": [
      "Shape do dataset: (173923, 18)\n",
      "<class 'pandas.core.frame.DataFrame'>\n",
      "RangeIndex: 173923 entries, 0 to 173922\n",
      "Data columns (total 18 columns):\n",
      " #   Column                  Non-Null Count   Dtype  \n",
      "---  ------                  --------------   -----  \n",
      " 0   COD_CICLO               173923 non-null  int64  \n",
      " 1   FLG_DATA                173923 non-null  int64  \n",
      " 2   COD_MATERIAL            173923 non-null  int64  \n",
      " 3   COD_CANAL               173923 non-null  object \n",
      " 4   DES_CATEGORIA_MATERIAL  173923 non-null  object \n",
      " 5   DES_MARCA_MATERIAL      173923 non-null  object \n",
      " 6   COD_REGIAO              173923 non-null  object \n",
      " 7   QT_VENDA_BRUTO          173923 non-null  float64\n",
      " 8   QT_DEVOLUCAO            87164 non-null   float64\n",
      " 9   VL_RECEITA_BRUTA        173923 non-null  float64\n",
      " 10  VL_RECEITA_LIQUIDA      173923 non-null  float64\n",
      " 11  FLG_CAMPANHA_MKT_A      173923 non-null  int64  \n",
      " 12  FLG_CAMPANHA_MKT_B      173923 non-null  int64  \n",
      " 13  FLG_CAMPANHA_MKT_C      173923 non-null  int64  \n",
      " 14  FLG_CAMPANHA_MKT_D      173923 non-null  int64  \n",
      " 15  FLG_CAMPANHA_MKT_E      173923 non-null  int64  \n",
      " 16  PCT_DESCONTO            56951 non-null   float64\n",
      " 17  VL_PRECO                173923 non-null  float64\n",
      "dtypes: float64(6), int64(8), object(4)\n",
      "memory usage: 23.9+ MB\n"
     ]
    }
   ],
   "source": [
    "print(f\"Shape do dataset: {df.shape}\")\n",
    "df.info()"
   ]
  },
  {
   "cell_type": "markdown",
   "id": "252510c0",
   "metadata": {},
   "source": [
    "#### 1.4 Verificação de Dados Faltantes"
   ]
  },
  {
   "cell_type": "code",
   "execution_count": 7,
   "id": "454d29bb",
   "metadata": {},
   "outputs": [
    {
     "data": {
      "text/plain": [
       "COD_CICLO                      0\n",
       "FLG_DATA                       0\n",
       "COD_MATERIAL                   0\n",
       "COD_CANAL                      0\n",
       "DES_CATEGORIA_MATERIAL         0\n",
       "DES_MARCA_MATERIAL             0\n",
       "COD_REGIAO                     0\n",
       "QT_VENDA_BRUTO                 0\n",
       "QT_DEVOLUCAO               86759\n",
       "VL_RECEITA_BRUTA               0\n",
       "VL_RECEITA_LIQUIDA             0\n",
       "FLG_CAMPANHA_MKT_A             0\n",
       "FLG_CAMPANHA_MKT_B             0\n",
       "FLG_CAMPANHA_MKT_C             0\n",
       "FLG_CAMPANHA_MKT_D             0\n",
       "FLG_CAMPANHA_MKT_E             0\n",
       "PCT_DESCONTO              116972\n",
       "VL_PRECO                       0\n",
       "dtype: int64"
      ]
     },
     "execution_count": 7,
     "metadata": {},
     "output_type": "execute_result"
    }
   ],
   "source": [
    "df.isnull().sum()"
   ]
  },
  {
   "cell_type": "markdown",
   "id": "6fa2e092",
   "metadata": {},
   "source": [
    "#### 1.5 Estatísticas Descritivas Iniciais"
   ]
  },
  {
   "cell_type": "code",
   "execution_count": 8,
   "id": "32127134",
   "metadata": {},
   "outputs": [
    {
     "data": {
      "text/html": [
       "<div>\n",
       "<style scoped>\n",
       "    .dataframe tbody tr th:only-of-type {\n",
       "        vertical-align: middle;\n",
       "    }\n",
       "\n",
       "    .dataframe tbody tr th {\n",
       "        vertical-align: top;\n",
       "    }\n",
       "\n",
       "    .dataframe thead th {\n",
       "        text-align: right;\n",
       "    }\n",
       "</style>\n",
       "<table border=\"1\" class=\"dataframe\">\n",
       "  <thead>\n",
       "    <tr style=\"text-align: right;\">\n",
       "      <th></th>\n",
       "      <th>QT_VENDA_BRUTO</th>\n",
       "      <th>QT_DEVOLUCAO</th>\n",
       "      <th>VL_RECEITA_BRUTA</th>\n",
       "      <th>VL_RECEITA_LIQUIDA</th>\n",
       "      <th>PCT_DESCONTO</th>\n",
       "      <th>VL_PRECO</th>\n",
       "    </tr>\n",
       "  </thead>\n",
       "  <tbody>\n",
       "    <tr>\n",
       "      <th>count</th>\n",
       "      <td>1.739230e+05</td>\n",
       "      <td>87164.000000</td>\n",
       "      <td>1.739230e+05</td>\n",
       "      <td>1.739230e+05</td>\n",
       "      <td>56951.000000</td>\n",
       "      <td>173923.000000</td>\n",
       "    </tr>\n",
       "    <tr>\n",
       "      <th>mean</th>\n",
       "      <td>1.050377e+04</td>\n",
       "      <td>491.800720</td>\n",
       "      <td>6.475499e+05</td>\n",
       "      <td>6.421887e+05</td>\n",
       "      <td>20.178633</td>\n",
       "      <td>543.703809</td>\n",
       "    </tr>\n",
       "    <tr>\n",
       "      <th>std</th>\n",
       "      <td>3.327551e+04</td>\n",
       "      <td>722.866615</td>\n",
       "      <td>2.790452e+06</td>\n",
       "      <td>2.780483e+06</td>\n",
       "      <td>9.847025</td>\n",
       "      <td>243.974723</td>\n",
       "    </tr>\n",
       "    <tr>\n",
       "      <th>min</th>\n",
       "      <td>2.345454e+02</td>\n",
       "      <td>234.000000</td>\n",
       "      <td>2.340600e+02</td>\n",
       "      <td>2.340600e+02</td>\n",
       "      <td>0.000000</td>\n",
       "      <td>234.060000</td>\n",
       "    </tr>\n",
       "    <tr>\n",
       "      <th>25%</th>\n",
       "      <td>3.960000e+02</td>\n",
       "      <td>234.000000</td>\n",
       "      <td>6.369720e+03</td>\n",
       "      <td>6.273450e+03</td>\n",
       "      <td>15.120000</td>\n",
       "      <td>389.400000</td>\n",
       "    </tr>\n",
       "    <tr>\n",
       "      <th>50%</th>\n",
       "      <td>2.070000e+03</td>\n",
       "      <td>270.000000</td>\n",
       "      <td>6.738048e+04</td>\n",
       "      <td>6.663558e+04</td>\n",
       "      <td>20.000000</td>\n",
       "      <td>461.400000</td>\n",
       "    </tr>\n",
       "    <tr>\n",
       "      <th>75%</th>\n",
       "      <td>8.634000e+03</td>\n",
       "      <td>444.000000</td>\n",
       "      <td>3.468348e+05</td>\n",
       "      <td>3.427422e+05</td>\n",
       "      <td>30.000000</td>\n",
       "      <td>593.400000</td>\n",
       "    </tr>\n",
       "    <tr>\n",
       "      <th>max</th>\n",
       "      <td>1.865862e+06</td>\n",
       "      <td>31662.000000</td>\n",
       "      <td>2.292459e+08</td>\n",
       "      <td>2.292459e+08</td>\n",
       "      <td>35.000000</td>\n",
       "      <td>5539.620000</td>\n",
       "    </tr>\n",
       "  </tbody>\n",
       "</table>\n",
       "</div>"
      ],
      "text/plain": [
       "       QT_VENDA_BRUTO  QT_DEVOLUCAO  VL_RECEITA_BRUTA  VL_RECEITA_LIQUIDA  \\\n",
       "count    1.739230e+05  87164.000000      1.739230e+05        1.739230e+05   \n",
       "mean     1.050377e+04    491.800720      6.475499e+05        6.421887e+05   \n",
       "std      3.327551e+04    722.866615      2.790452e+06        2.780483e+06   \n",
       "min      2.345454e+02    234.000000      2.340600e+02        2.340600e+02   \n",
       "25%      3.960000e+02    234.000000      6.369720e+03        6.273450e+03   \n",
       "50%      2.070000e+03    270.000000      6.738048e+04        6.663558e+04   \n",
       "75%      8.634000e+03    444.000000      3.468348e+05        3.427422e+05   \n",
       "max      1.865862e+06  31662.000000      2.292459e+08        2.292459e+08   \n",
       "\n",
       "       PCT_DESCONTO       VL_PRECO  \n",
       "count  56951.000000  173923.000000  \n",
       "mean      20.178633     543.703809  \n",
       "std        9.847025     243.974723  \n",
       "min        0.000000     234.060000  \n",
       "25%       15.120000     389.400000  \n",
       "50%       20.000000     461.400000  \n",
       "75%       30.000000     593.400000  \n",
       "max       35.000000    5539.620000  "
      ]
     },
     "execution_count": 8,
     "metadata": {},
     "output_type": "execute_result"
    }
   ],
   "source": [
    "df.select_dtypes('float64').describe()"
   ]
  },
  {
   "cell_type": "markdown",
   "id": "7c576287",
   "metadata": {},
   "source": [
    "#### 1.6 Valores Únicos por Coluna"
   ]
  },
  {
   "cell_type": "code",
   "execution_count": 9,
   "id": "94e02d81",
   "metadata": {},
   "outputs": [
    {
     "data": {
      "text/plain": [
       "COD_CICLO                     53\n",
       "FLG_DATA                       2\n",
       "COD_MATERIAL                2252\n",
       "COD_CANAL                      2\n",
       "DES_CATEGORIA_MATERIAL         6\n",
       "DES_MARCA_MATERIAL            85\n",
       "COD_REGIAO                     2\n",
       "QT_VENDA_BRUTO             14548\n",
       "QT_DEVOLUCAO                1043\n",
       "VL_RECEITA_BRUTA          119095\n",
       "VL_RECEITA_LIQUIDA        124054\n",
       "FLG_CAMPANHA_MKT_A             2\n",
       "FLG_CAMPANHA_MKT_B             2\n",
       "FLG_CAMPANHA_MKT_C             2\n",
       "FLG_CAMPANHA_MKT_D             2\n",
       "FLG_CAMPANHA_MKT_E             1\n",
       "PCT_DESCONTO                 528\n",
       "VL_PRECO                   10867\n",
       "dtype: int64"
      ]
     },
     "execution_count": 9,
     "metadata": {},
     "output_type": "execute_result"
    }
   ],
   "source": [
    "df.nunique()"
   ]
  },
  {
   "cell_type": "markdown",
   "id": "3c928af9",
   "metadata": {},
   "source": [
    "-------------------"
   ]
  },
  {
   "cell_type": "markdown",
   "id": "f164b582",
   "metadata": {},
   "source": [
    "## 2. Limpeza e Tratamento"
   ]
  },
  {
   "cell_type": "markdown",
   "id": "e4ea9bbe",
   "metadata": {},
   "source": [
    "#### 2.1 Tratamento de Valores Faltantes"
   ]
  },
  {
   "cell_type": "markdown",
   "id": "0c8db1a4",
   "metadata": {},
   "source": [
    "As variáveis PCT_DESCONTO e QT_DEVOLUCAO possuem valores ausentes. Como ambas são contínuas, poderíamos usar a mediana, mas neste caso a ausência indica que não houve desconto ou não houve devolução. Portanto, vamos preencher os valores faltantes com zero, que representa corretamente esses cenários."
   ]
  },
  {
   "cell_type": "code",
   "execution_count": 10,
   "id": "d8d4dc97",
   "metadata": {},
   "outputs": [
    {
     "data": {
      "text/html": [
       "<div>\n",
       "<style scoped>\n",
       "    .dataframe tbody tr th:only-of-type {\n",
       "        vertical-align: middle;\n",
       "    }\n",
       "\n",
       "    .dataframe tbody tr th {\n",
       "        vertical-align: top;\n",
       "    }\n",
       "\n",
       "    .dataframe thead th {\n",
       "        text-align: right;\n",
       "    }\n",
       "</style>\n",
       "<table border=\"1\" class=\"dataframe\">\n",
       "  <thead>\n",
       "    <tr style=\"text-align: right;\">\n",
       "      <th></th>\n",
       "      <th>PCT_DESCONTO</th>\n",
       "      <th>QT_DEVOLUCAO</th>\n",
       "    </tr>\n",
       "  </thead>\n",
       "  <tbody>\n",
       "    <tr>\n",
       "      <th>0</th>\n",
       "      <td>0.0</td>\n",
       "      <td>414.0</td>\n",
       "    </tr>\n",
       "    <tr>\n",
       "      <th>1</th>\n",
       "      <td>0.0</td>\n",
       "      <td>252.0</td>\n",
       "    </tr>\n",
       "    <tr>\n",
       "      <th>2</th>\n",
       "      <td>35.0</td>\n",
       "      <td>1410.0</td>\n",
       "    </tr>\n",
       "    <tr>\n",
       "      <th>3</th>\n",
       "      <td>0.0</td>\n",
       "      <td>0.0</td>\n",
       "    </tr>\n",
       "    <tr>\n",
       "      <th>4</th>\n",
       "      <td>0.0</td>\n",
       "      <td>240.0</td>\n",
       "    </tr>\n",
       "  </tbody>\n",
       "</table>\n",
       "</div>"
      ],
      "text/plain": [
       "   PCT_DESCONTO  QT_DEVOLUCAO\n",
       "0           0.0         414.0\n",
       "1           0.0         252.0\n",
       "2          35.0        1410.0\n",
       "3           0.0           0.0\n",
       "4           0.0         240.0"
      ]
     },
     "execution_count": 10,
     "metadata": {},
     "output_type": "execute_result"
    }
   ],
   "source": [
    "df[['PCT_DESCONTO', 'QT_DEVOLUCAO']] = df[['PCT_DESCONTO', 'QT_DEVOLUCAO']].fillna(0)\n",
    "\n",
    "df[['PCT_DESCONTO', 'QT_DEVOLUCAO']].head()"
   ]
  },
  {
   "cell_type": "markdown",
   "id": "e6a5fb51",
   "metadata": {},
   "source": [
    "#### 2.2 Verificação e Correção de Receita Bruta e Líquida"
   ]
  },
  {
   "cell_type": "markdown",
   "id": "4c82fbce",
   "metadata": {},
   "source": [
    "Ao analisar um simples df.head(), observamos inconsistências entre as variáveis QT_VENDA_BRUTO, VL_PRECO e VL_RECEITA_BRUTA. Partindo da fórmula básica de que faturamento bruto = quantidade × preço, percebemos que em muitos casos essa relação não se sustenta. Assumimos que o valor de VL_RECEITA_BRUTA está correto. Com isso, optamos por ajustar o campo de preço unitário (VL_PRECO) para refletir o faturamento com base na quantidade registrada, respeitando a regra de que quantidade deve ser um número inteiro. Essa foi a decisão tomada para garantir consistência nos dados para as próximas etapas."
   ]
  },
  {
   "cell_type": "code",
   "execution_count": 11,
   "id": "57c43a4a",
   "metadata": {},
   "outputs": [
    {
     "data": {
      "text/html": [
       "<div>\n",
       "<style scoped>\n",
       "    .dataframe tbody tr th:only-of-type {\n",
       "        vertical-align: middle;\n",
       "    }\n",
       "\n",
       "    .dataframe tbody tr th {\n",
       "        vertical-align: top;\n",
       "    }\n",
       "\n",
       "    .dataframe thead th {\n",
       "        text-align: right;\n",
       "    }\n",
       "</style>\n",
       "<table border=\"1\" class=\"dataframe\">\n",
       "  <thead>\n",
       "    <tr style=\"text-align: right;\">\n",
       "      <th></th>\n",
       "      <th>QT_VENDA_BRUTO</th>\n",
       "      <th>VL_PRECO</th>\n",
       "      <th>VL_RECEITA_BRUTA</th>\n",
       "    </tr>\n",
       "  </thead>\n",
       "  <tbody>\n",
       "    <tr>\n",
       "      <th>43462</th>\n",
       "      <td>234</td>\n",
       "      <td>817</td>\n",
       "      <td>287</td>\n",
       "    </tr>\n",
       "    <tr>\n",
       "      <th>140227</th>\n",
       "      <td>234</td>\n",
       "      <td>817</td>\n",
       "      <td>287</td>\n",
       "    </tr>\n",
       "    <tr>\n",
       "      <th>83747</th>\n",
       "      <td>234</td>\n",
       "      <td>1791</td>\n",
       "      <td>375</td>\n",
       "    </tr>\n",
       "    <tr>\n",
       "      <th>138748</th>\n",
       "      <td>234</td>\n",
       "      <td>1791</td>\n",
       "      <td>375</td>\n",
       "    </tr>\n",
       "    <tr>\n",
       "      <th>138390</th>\n",
       "      <td>234</td>\n",
       "      <td>1791</td>\n",
       "      <td>375</td>\n",
       "    </tr>\n",
       "  </tbody>\n",
       "</table>\n",
       "</div>"
      ],
      "text/plain": [
       "        QT_VENDA_BRUTO  VL_PRECO  VL_RECEITA_BRUTA\n",
       "43462              234       817               287\n",
       "140227             234       817               287\n",
       "83747              234      1791               375\n",
       "138748             234      1791               375\n",
       "138390             234      1791               375"
      ]
     },
     "execution_count": 11,
     "metadata": {},
     "output_type": "execute_result"
    }
   ],
   "source": [
    "df[['QT_VENDA_BRUTO', 'VL_PRECO', 'VL_RECEITA_BRUTA']].astype(int).sort_values(['QT_VENDA_BRUTO']).head()"
   ]
  },
  {
   "cell_type": "code",
   "execution_count": 12,
   "id": "c5f4794d",
   "metadata": {},
   "outputs": [],
   "source": [
    "# Ajustando valor\n",
    "df['VL_PRECO'] = df['VL_RECEITA_BRUTA'] / df['QT_VENDA_BRUTO']"
   ]
  },
  {
   "cell_type": "markdown",
   "id": "cfee1450",
   "metadata": {},
   "source": [
    "Seguindo a mesma lógica, também identificamos inconsistências na variável VL_RECEITA_LIQUIDA. Pela lógica, ela deveria ser calculada como VL_RECEITA_BRUTA × (1 - PCT_DESCONTO). No entanto, vários registros não seguem essa regra. Assim como fizemos com a VL_PRECO, assumimos que o valor de VL_RECEITA_BRUTA e o PCT_DESCONTO estão corretos e optamos por recalcular VL_RECEITA_LIQUIDA com base nessa fórmula, garantindo a consistência dos dados."
   ]
  },
  {
   "cell_type": "code",
   "execution_count": 13,
   "id": "b365c9e3",
   "metadata": {},
   "outputs": [
    {
     "data": {
      "text/html": [
       "<div>\n",
       "<style scoped>\n",
       "    .dataframe tbody tr th:only-of-type {\n",
       "        vertical-align: middle;\n",
       "    }\n",
       "\n",
       "    .dataframe tbody tr th {\n",
       "        vertical-align: top;\n",
       "    }\n",
       "\n",
       "    .dataframe thead th {\n",
       "        text-align: right;\n",
       "    }\n",
       "</style>\n",
       "<table border=\"1\" class=\"dataframe\">\n",
       "  <thead>\n",
       "    <tr style=\"text-align: right;\">\n",
       "      <th></th>\n",
       "      <th>QT_VENDA_BRUTO</th>\n",
       "      <th>VL_PRECO</th>\n",
       "      <th>VL_RECEITA_BRUTA</th>\n",
       "      <th>PCT_DESCONTO</th>\n",
       "      <th>VL_RECEITA_LIQUIDA</th>\n",
       "    </tr>\n",
       "  </thead>\n",
       "  <tbody>\n",
       "    <tr>\n",
       "      <th>2</th>\n",
       "      <td>54012.0</td>\n",
       "      <td>17.826783</td>\n",
       "      <td>962860.20</td>\n",
       "      <td>35.0</td>\n",
       "      <td>962860.20</td>\n",
       "    </tr>\n",
       "    <tr>\n",
       "      <th>68994</th>\n",
       "      <td>172716.0</td>\n",
       "      <td>25.862894</td>\n",
       "      <td>4466935.56</td>\n",
       "      <td>35.0</td>\n",
       "      <td>4466935.56</td>\n",
       "    </tr>\n",
       "    <tr>\n",
       "      <th>126062</th>\n",
       "      <td>13230.0</td>\n",
       "      <td>33.985896</td>\n",
       "      <td>449633.40</td>\n",
       "      <td>35.0</td>\n",
       "      <td>449633.40</td>\n",
       "    </tr>\n",
       "    <tr>\n",
       "      <th>6258</th>\n",
       "      <td>12672.0</td>\n",
       "      <td>12.684517</td>\n",
       "      <td>160738.20</td>\n",
       "      <td>35.0</td>\n",
       "      <td>160738.20</td>\n",
       "    </tr>\n",
       "    <tr>\n",
       "      <th>173860</th>\n",
       "      <td>1032.0</td>\n",
       "      <td>13.118605</td>\n",
       "      <td>13538.40</td>\n",
       "      <td>35.0</td>\n",
       "      <td>13538.40</td>\n",
       "    </tr>\n",
       "  </tbody>\n",
       "</table>\n",
       "</div>"
      ],
      "text/plain": [
       "        QT_VENDA_BRUTO   VL_PRECO  VL_RECEITA_BRUTA  PCT_DESCONTO  \\\n",
       "2              54012.0  17.826783         962860.20          35.0   \n",
       "68994         172716.0  25.862894        4466935.56          35.0   \n",
       "126062         13230.0  33.985896         449633.40          35.0   \n",
       "6258           12672.0  12.684517         160738.20          35.0   \n",
       "173860          1032.0  13.118605          13538.40          35.0   \n",
       "\n",
       "        VL_RECEITA_LIQUIDA  \n",
       "2                962860.20  \n",
       "68994           4466935.56  \n",
       "126062           449633.40  \n",
       "6258             160738.20  \n",
       "173860            13538.40  "
      ]
     },
     "execution_count": 13,
     "metadata": {},
     "output_type": "execute_result"
    }
   ],
   "source": [
    "lista=['QT_VENDA_BRUTO', 'VL_PRECO', 'VL_RECEITA_BRUTA', 'PCT_DESCONTO', 'VL_RECEITA_LIQUIDA']\n",
    "df[lista].sort_values(['PCT_DESCONTO'], ascending=False).head()"
   ]
  },
  {
   "cell_type": "code",
   "execution_count": 14,
   "id": "64cf2eb0",
   "metadata": {},
   "outputs": [],
   "source": [
    "#Ajustando a Receita líquida\n",
    "df['VL_RECEITA_LIQUIDA'] = df['VL_RECEITA_BRUTA'] * (1 - df['PCT_DESCONTO']/100)"
   ]
  },
  {
   "cell_type": "markdown",
   "id": "f8766b8c",
   "metadata": {},
   "source": [
    "#### 2.3 – Criação de Variáveis para Análise"
   ]
  },
  {
   "cell_type": "markdown",
   "id": "a823805d",
   "metadata": {},
   "source": [
    "Para facilitar a análise temporal e a avaliação do impacto de campanhas, foram criadas duas novas variáveis:\n",
    "\n",
    "- ANO e CICLO: extraídas a partir do campo COD_CICLO, permitindo agrupar dados por período de forma mais interpretável.\n",
    "\n",
    "- NUM_CAMPANHAS_ATIVAS: variável numérica que indica quantas campanhas (A, B, C, D ou E) estiveram ativas no ciclo. Recebe um valor inteiro de 0 a 5, correspondente à soma das flags de campanha ativadas naquele período"
   ]
  },
  {
   "cell_type": "markdown",
   "id": "4bf64aec",
   "metadata": {},
   "source": [
    "##### - ANO e CICLO"
   ]
  },
  {
   "cell_type": "code",
   "execution_count": 15,
   "id": "50fe5d09",
   "metadata": {},
   "outputs": [
    {
     "data": {
      "text/html": [
       "<div>\n",
       "<style scoped>\n",
       "    .dataframe tbody tr th:only-of-type {\n",
       "        vertical-align: middle;\n",
       "    }\n",
       "\n",
       "    .dataframe tbody tr th {\n",
       "        vertical-align: top;\n",
       "    }\n",
       "\n",
       "    .dataframe thead th {\n",
       "        text-align: right;\n",
       "    }\n",
       "</style>\n",
       "<table border=\"1\" class=\"dataframe\">\n",
       "  <thead>\n",
       "    <tr style=\"text-align: right;\">\n",
       "      <th></th>\n",
       "      <th>ANO</th>\n",
       "      <th>CICLO</th>\n",
       "    </tr>\n",
       "  </thead>\n",
       "  <tbody>\n",
       "    <tr>\n",
       "      <th>0</th>\n",
       "      <td>2019</td>\n",
       "      <td>17</td>\n",
       "    </tr>\n",
       "    <tr>\n",
       "      <th>1</th>\n",
       "      <td>2020</td>\n",
       "      <td>5</td>\n",
       "    </tr>\n",
       "    <tr>\n",
       "      <th>2</th>\n",
       "      <td>2019</td>\n",
       "      <td>1</td>\n",
       "    </tr>\n",
       "    <tr>\n",
       "      <th>3</th>\n",
       "      <td>2018</td>\n",
       "      <td>13</td>\n",
       "    </tr>\n",
       "    <tr>\n",
       "      <th>4</th>\n",
       "      <td>2020</td>\n",
       "      <td>6</td>\n",
       "    </tr>\n",
       "  </tbody>\n",
       "</table>\n",
       "</div>"
      ],
      "text/plain": [
       "    ANO  CICLO\n",
       "0  2019     17\n",
       "1  2020      5\n",
       "2  2019      1\n",
       "3  2018     13\n",
       "4  2020      6"
      ]
     },
     "execution_count": 15,
     "metadata": {},
     "output_type": "execute_result"
    }
   ],
   "source": [
    "def split_cod_ciclo(X):\n",
    "    X = X.copy()\n",
    "    X['ANO'] = X['COD_CICLO'].astype(str).str.zfill(6).str[:4].astype(int)\n",
    "    X['CICLO'] = X['COD_CICLO'].astype(str).str.zfill(6).str[4:].astype(int)\n",
    "    return X[['ANO', 'CICLO']]\n",
    "\n",
    "df[['ANO', 'CICLO']] = split_cod_ciclo(df)\n",
    "\n",
    "df[['ANO', 'CICLO']].head()"
   ]
  },
  {
   "cell_type": "markdown",
   "id": "dc22ce36",
   "metadata": {},
   "source": [
    "##### - NUM_CAMPANHAS_ATIVAS"
   ]
  },
  {
   "cell_type": "code",
   "execution_count": 16,
   "id": "16cf6000",
   "metadata": {},
   "outputs": [],
   "source": [
    "campanha_flags = ['FLG_CAMPANHA_MKT_A', 'FLG_CAMPANHA_MKT_B', 'FLG_CAMPANHA_MKT_C', 'FLG_CAMPANHA_MKT_D', 'FLG_CAMPANHA_MKT_E']\n",
    "\n",
    "df['NUM_CAMPANHAS_ATIVAS'] = df[campanha_flags].sum(axis=1)"
   ]
  },
  {
   "cell_type": "code",
   "execution_count": 17,
   "id": "2aa51621",
   "metadata": {},
   "outputs": [
    {
     "data": {
      "text/plain": [
       "NUM_CAMPANHAS_ATIVAS\n",
       "0    117147\n",
       "1     43578\n",
       "2     11235\n",
       "3      1680\n",
       "4       283\n",
       "Name: count, dtype: int64"
      ]
     },
     "execution_count": 17,
     "metadata": {},
     "output_type": "execute_result"
    }
   ],
   "source": [
    "df['NUM_CAMPANHAS_ATIVAS'].value_counts()"
   ]
  },
  {
   "cell_type": "markdown",
   "id": "79081c90",
   "metadata": {},
   "source": [
    "Com os ajustes aplicados, a base agora está organizada, consistente e pronta para as próximas etapas de análise exploratória e modelagem."
   ]
  },
  {
   "cell_type": "markdown",
   "id": "0546a5e5",
   "metadata": {},
   "source": [
    "-----------------------"
   ]
  },
  {
   "cell_type": "markdown",
   "id": "7a9f9d96",
   "metadata": {},
   "source": [
    "## 3. Análise das Categorias"
   ]
  },
  {
   "cell_type": "markdown",
   "id": "77784339",
   "metadata": {},
   "source": [
    "Nesta etapa, analisamos a participação das principais variáveis categóricas no receita bruta total. As variáveis selecionadas para esta análise foram:\n",
    "\n",
    "- Canal de Venda (COD_CANAL)\n",
    "\n",
    "- Categoria do Material (DES_CATEGORIA_MATERIAL)\n",
    "\n",
    "- Região da Venda (COD_REGIAO)\n",
    "\n",
    "- Campanhas de Marketing Ativas (FLG_CAMPANHA_MKT)"
   ]
  },
  {
   "cell_type": "markdown",
   "id": "9ac4dffb",
   "metadata": {},
   "source": [
    "Agrupamos cada variável categórica, somamos a receita bruta e calculamos a porcentagem do total. Como os valores estão anonimizados e provavelmente foram multiplicados, a porcentagem é mais relevante para entender a representatividade de cada grupo."
   ]
  },
  {
   "cell_type": "markdown",
   "id": "b171007f",
   "metadata": {},
   "source": [
    "####    3.1 Canal de Venda (COD_CANAL)"
   ]
  },
  {
   "cell_type": "code",
   "execution_count": 18,
   "id": "8626d575",
   "metadata": {},
   "outputs": [
    {
     "data": {
      "application/vnd.plotly.v1+json": {
       "config": {
        "plotlyServerURL": "https://plot.ly"
       },
       "data": [
        {
         "hole": 0.3,
         "labels": [
          "anon_S0",
          "anon_S7"
         ],
         "textinfo": "label+percent",
         "type": "pie",
         "values": [
          49041320812,
          63582494363
         ]
        }
       ],
       "layout": {
        "template": {
         "data": {
          "bar": [
           {
            "error_x": {
             "color": "#2a3f5f"
            },
            "error_y": {
             "color": "#2a3f5f"
            },
            "marker": {
             "line": {
              "color": "#E5ECF6",
              "width": 0.5
             },
             "pattern": {
              "fillmode": "overlay",
              "size": 10,
              "solidity": 0.2
             }
            },
            "type": "bar"
           }
          ],
          "barpolar": [
           {
            "marker": {
             "line": {
              "color": "#E5ECF6",
              "width": 0.5
             },
             "pattern": {
              "fillmode": "overlay",
              "size": 10,
              "solidity": 0.2
             }
            },
            "type": "barpolar"
           }
          ],
          "carpet": [
           {
            "aaxis": {
             "endlinecolor": "#2a3f5f",
             "gridcolor": "white",
             "linecolor": "white",
             "minorgridcolor": "white",
             "startlinecolor": "#2a3f5f"
            },
            "baxis": {
             "endlinecolor": "#2a3f5f",
             "gridcolor": "white",
             "linecolor": "white",
             "minorgridcolor": "white",
             "startlinecolor": "#2a3f5f"
            },
            "type": "carpet"
           }
          ],
          "choropleth": [
           {
            "colorbar": {
             "outlinewidth": 0,
             "ticks": ""
            },
            "type": "choropleth"
           }
          ],
          "contour": [
           {
            "colorbar": {
             "outlinewidth": 0,
             "ticks": ""
            },
            "colorscale": [
             [
              0,
              "#0d0887"
             ],
             [
              0.1111111111111111,
              "#46039f"
             ],
             [
              0.2222222222222222,
              "#7201a8"
             ],
             [
              0.3333333333333333,
              "#9c179e"
             ],
             [
              0.4444444444444444,
              "#bd3786"
             ],
             [
              0.5555555555555556,
              "#d8576b"
             ],
             [
              0.6666666666666666,
              "#ed7953"
             ],
             [
              0.7777777777777778,
              "#fb9f3a"
             ],
             [
              0.8888888888888888,
              "#fdca26"
             ],
             [
              1,
              "#f0f921"
             ]
            ],
            "type": "contour"
           }
          ],
          "contourcarpet": [
           {
            "colorbar": {
             "outlinewidth": 0,
             "ticks": ""
            },
            "type": "contourcarpet"
           }
          ],
          "heatmap": [
           {
            "colorbar": {
             "outlinewidth": 0,
             "ticks": ""
            },
            "colorscale": [
             [
              0,
              "#0d0887"
             ],
             [
              0.1111111111111111,
              "#46039f"
             ],
             [
              0.2222222222222222,
              "#7201a8"
             ],
             [
              0.3333333333333333,
              "#9c179e"
             ],
             [
              0.4444444444444444,
              "#bd3786"
             ],
             [
              0.5555555555555556,
              "#d8576b"
             ],
             [
              0.6666666666666666,
              "#ed7953"
             ],
             [
              0.7777777777777778,
              "#fb9f3a"
             ],
             [
              0.8888888888888888,
              "#fdca26"
             ],
             [
              1,
              "#f0f921"
             ]
            ],
            "type": "heatmap"
           }
          ],
          "histogram": [
           {
            "marker": {
             "pattern": {
              "fillmode": "overlay",
              "size": 10,
              "solidity": 0.2
             }
            },
            "type": "histogram"
           }
          ],
          "histogram2d": [
           {
            "colorbar": {
             "outlinewidth": 0,
             "ticks": ""
            },
            "colorscale": [
             [
              0,
              "#0d0887"
             ],
             [
              0.1111111111111111,
              "#46039f"
             ],
             [
              0.2222222222222222,
              "#7201a8"
             ],
             [
              0.3333333333333333,
              "#9c179e"
             ],
             [
              0.4444444444444444,
              "#bd3786"
             ],
             [
              0.5555555555555556,
              "#d8576b"
             ],
             [
              0.6666666666666666,
              "#ed7953"
             ],
             [
              0.7777777777777778,
              "#fb9f3a"
             ],
             [
              0.8888888888888888,
              "#fdca26"
             ],
             [
              1,
              "#f0f921"
             ]
            ],
            "type": "histogram2d"
           }
          ],
          "histogram2dcontour": [
           {
            "colorbar": {
             "outlinewidth": 0,
             "ticks": ""
            },
            "colorscale": [
             [
              0,
              "#0d0887"
             ],
             [
              0.1111111111111111,
              "#46039f"
             ],
             [
              0.2222222222222222,
              "#7201a8"
             ],
             [
              0.3333333333333333,
              "#9c179e"
             ],
             [
              0.4444444444444444,
              "#bd3786"
             ],
             [
              0.5555555555555556,
              "#d8576b"
             ],
             [
              0.6666666666666666,
              "#ed7953"
             ],
             [
              0.7777777777777778,
              "#fb9f3a"
             ],
             [
              0.8888888888888888,
              "#fdca26"
             ],
             [
              1,
              "#f0f921"
             ]
            ],
            "type": "histogram2dcontour"
           }
          ],
          "mesh3d": [
           {
            "colorbar": {
             "outlinewidth": 0,
             "ticks": ""
            },
            "type": "mesh3d"
           }
          ],
          "parcoords": [
           {
            "line": {
             "colorbar": {
              "outlinewidth": 0,
              "ticks": ""
             }
            },
            "type": "parcoords"
           }
          ],
          "pie": [
           {
            "automargin": true,
            "type": "pie"
           }
          ],
          "scatter": [
           {
            "fillpattern": {
             "fillmode": "overlay",
             "size": 10,
             "solidity": 0.2
            },
            "type": "scatter"
           }
          ],
          "scatter3d": [
           {
            "line": {
             "colorbar": {
              "outlinewidth": 0,
              "ticks": ""
             }
            },
            "marker": {
             "colorbar": {
              "outlinewidth": 0,
              "ticks": ""
             }
            },
            "type": "scatter3d"
           }
          ],
          "scattercarpet": [
           {
            "marker": {
             "colorbar": {
              "outlinewidth": 0,
              "ticks": ""
             }
            },
            "type": "scattercarpet"
           }
          ],
          "scattergeo": [
           {
            "marker": {
             "colorbar": {
              "outlinewidth": 0,
              "ticks": ""
             }
            },
            "type": "scattergeo"
           }
          ],
          "scattergl": [
           {
            "marker": {
             "colorbar": {
              "outlinewidth": 0,
              "ticks": ""
             }
            },
            "type": "scattergl"
           }
          ],
          "scattermap": [
           {
            "marker": {
             "colorbar": {
              "outlinewidth": 0,
              "ticks": ""
             }
            },
            "type": "scattermap"
           }
          ],
          "scattermapbox": [
           {
            "marker": {
             "colorbar": {
              "outlinewidth": 0,
              "ticks": ""
             }
            },
            "type": "scattermapbox"
           }
          ],
          "scatterpolar": [
           {
            "marker": {
             "colorbar": {
              "outlinewidth": 0,
              "ticks": ""
             }
            },
            "type": "scatterpolar"
           }
          ],
          "scatterpolargl": [
           {
            "marker": {
             "colorbar": {
              "outlinewidth": 0,
              "ticks": ""
             }
            },
            "type": "scatterpolargl"
           }
          ],
          "scatterternary": [
           {
            "marker": {
             "colorbar": {
              "outlinewidth": 0,
              "ticks": ""
             }
            },
            "type": "scatterternary"
           }
          ],
          "surface": [
           {
            "colorbar": {
             "outlinewidth": 0,
             "ticks": ""
            },
            "colorscale": [
             [
              0,
              "#0d0887"
             ],
             [
              0.1111111111111111,
              "#46039f"
             ],
             [
              0.2222222222222222,
              "#7201a8"
             ],
             [
              0.3333333333333333,
              "#9c179e"
             ],
             [
              0.4444444444444444,
              "#bd3786"
             ],
             [
              0.5555555555555556,
              "#d8576b"
             ],
             [
              0.6666666666666666,
              "#ed7953"
             ],
             [
              0.7777777777777778,
              "#fb9f3a"
             ],
             [
              0.8888888888888888,
              "#fdca26"
             ],
             [
              1,
              "#f0f921"
             ]
            ],
            "type": "surface"
           }
          ],
          "table": [
           {
            "cells": {
             "fill": {
              "color": "#EBF0F8"
             },
             "line": {
              "color": "white"
             }
            },
            "header": {
             "fill": {
              "color": "#C8D4E3"
             },
             "line": {
              "color": "white"
             }
            },
            "type": "table"
           }
          ]
         },
         "layout": {
          "annotationdefaults": {
           "arrowcolor": "#2a3f5f",
           "arrowhead": 0,
           "arrowwidth": 1
          },
          "autotypenumbers": "strict",
          "coloraxis": {
           "colorbar": {
            "outlinewidth": 0,
            "ticks": ""
           }
          },
          "colorscale": {
           "diverging": [
            [
             0,
             "#8e0152"
            ],
            [
             0.1,
             "#c51b7d"
            ],
            [
             0.2,
             "#de77ae"
            ],
            [
             0.3,
             "#f1b6da"
            ],
            [
             0.4,
             "#fde0ef"
            ],
            [
             0.5,
             "#f7f7f7"
            ],
            [
             0.6,
             "#e6f5d0"
            ],
            [
             0.7,
             "#b8e186"
            ],
            [
             0.8,
             "#7fbc41"
            ],
            [
             0.9,
             "#4d9221"
            ],
            [
             1,
             "#276419"
            ]
           ],
           "sequential": [
            [
             0,
             "#0d0887"
            ],
            [
             0.1111111111111111,
             "#46039f"
            ],
            [
             0.2222222222222222,
             "#7201a8"
            ],
            [
             0.3333333333333333,
             "#9c179e"
            ],
            [
             0.4444444444444444,
             "#bd3786"
            ],
            [
             0.5555555555555556,
             "#d8576b"
            ],
            [
             0.6666666666666666,
             "#ed7953"
            ],
            [
             0.7777777777777778,
             "#fb9f3a"
            ],
            [
             0.8888888888888888,
             "#fdca26"
            ],
            [
             1,
             "#f0f921"
            ]
           ],
           "sequentialminus": [
            [
             0,
             "#0d0887"
            ],
            [
             0.1111111111111111,
             "#46039f"
            ],
            [
             0.2222222222222222,
             "#7201a8"
            ],
            [
             0.3333333333333333,
             "#9c179e"
            ],
            [
             0.4444444444444444,
             "#bd3786"
            ],
            [
             0.5555555555555556,
             "#d8576b"
            ],
            [
             0.6666666666666666,
             "#ed7953"
            ],
            [
             0.7777777777777778,
             "#fb9f3a"
            ],
            [
             0.8888888888888888,
             "#fdca26"
            ],
            [
             1,
             "#f0f921"
            ]
           ]
          },
          "colorway": [
           "#636efa",
           "#EF553B",
           "#00cc96",
           "#ab63fa",
           "#FFA15A",
           "#19d3f3",
           "#FF6692",
           "#B6E880",
           "#FF97FF",
           "#FECB52"
          ],
          "font": {
           "color": "#2a3f5f"
          },
          "geo": {
           "bgcolor": "white",
           "lakecolor": "white",
           "landcolor": "#E5ECF6",
           "showlakes": true,
           "showland": true,
           "subunitcolor": "white"
          },
          "hoverlabel": {
           "align": "left"
          },
          "hovermode": "closest",
          "mapbox": {
           "style": "light"
          },
          "paper_bgcolor": "white",
          "plot_bgcolor": "#E5ECF6",
          "polar": {
           "angularaxis": {
            "gridcolor": "white",
            "linecolor": "white",
            "ticks": ""
           },
           "bgcolor": "#E5ECF6",
           "radialaxis": {
            "gridcolor": "white",
            "linecolor": "white",
            "ticks": ""
           }
          },
          "scene": {
           "xaxis": {
            "backgroundcolor": "#E5ECF6",
            "gridcolor": "white",
            "gridwidth": 2,
            "linecolor": "white",
            "showbackground": true,
            "ticks": "",
            "zerolinecolor": "white"
           },
           "yaxis": {
            "backgroundcolor": "#E5ECF6",
            "gridcolor": "white",
            "gridwidth": 2,
            "linecolor": "white",
            "showbackground": true,
            "ticks": "",
            "zerolinecolor": "white"
           },
           "zaxis": {
            "backgroundcolor": "#E5ECF6",
            "gridcolor": "white",
            "gridwidth": 2,
            "linecolor": "white",
            "showbackground": true,
            "ticks": "",
            "zerolinecolor": "white"
           }
          },
          "shapedefaults": {
           "line": {
            "color": "#2a3f5f"
           }
          },
          "ternary": {
           "aaxis": {
            "gridcolor": "white",
            "linecolor": "white",
            "ticks": ""
           },
           "baxis": {
            "gridcolor": "white",
            "linecolor": "white",
            "ticks": ""
           },
           "bgcolor": "#E5ECF6",
           "caxis": {
            "gridcolor": "white",
            "linecolor": "white",
            "ticks": ""
           }
          },
          "title": {
           "x": 0.05
          },
          "xaxis": {
           "automargin": true,
           "gridcolor": "white",
           "linecolor": "white",
           "ticks": "",
           "title": {
            "standoff": 15
           },
           "zerolinecolor": "white",
           "zerolinewidth": 2
          },
          "yaxis": {
           "automargin": true,
           "gridcolor": "white",
           "linecolor": "white",
           "ticks": "",
           "title": {
            "standoff": 15
           },
           "zerolinecolor": "white",
           "zerolinewidth": 2
          }
         }
        },
        "title": {
         "text": "<b>Distribuição do Faturamento por COD_CANAL</b>"
        }
       }
      }
     },
     "metadata": {},
     "output_type": "display_data"
    }
   ],
   "source": [
    "col = 'COD_CANAL'\n",
    "\n",
    "df_grouped = df.groupby([col])['VL_RECEITA_BRUTA'].sum().astype(int).reset_index()\n",
    "\n",
    "\n",
    "fig = go.Figure(data=[go.Pie(labels=df_grouped[col], values=df_grouped['VL_RECEITA_BRUTA'], hole=.3, textinfo='label+percent')])\n",
    "fig.update_layout(title_text=f\"<b>Distribuição do Faturamento por {col}</b>\")\n",
    "fig.show()"
   ]
  },
  {
   "cell_type": "markdown",
   "id": "6163a4f6",
   "metadata": {},
   "source": [
    "####    3.2 Categoria do Material (DES_CATEGORIA_MATERIAL)"
   ]
  },
  {
   "cell_type": "code",
   "execution_count": 19,
   "id": "fa33202d",
   "metadata": {},
   "outputs": [
    {
     "data": {
      "application/vnd.plotly.v1+json": {
       "config": {
        "plotlyServerURL": "https://plot.ly"
       },
       "data": [
        {
         "hole": 0.3,
         "labels": [
          "anon_S11",
          "anon_S12",
          "anon_S18",
          "anon_S2",
          "anon_S30",
          "anon_S5"
         ],
         "textinfo": "label+percent",
         "type": "pie",
         "values": [
          4893900811,
          78980652522,
          1990771838,
          19066518835,
          802070640,
          6889900527
         ]
        }
       ],
       "layout": {
        "template": {
         "data": {
          "bar": [
           {
            "error_x": {
             "color": "#2a3f5f"
            },
            "error_y": {
             "color": "#2a3f5f"
            },
            "marker": {
             "line": {
              "color": "#E5ECF6",
              "width": 0.5
             },
             "pattern": {
              "fillmode": "overlay",
              "size": 10,
              "solidity": 0.2
             }
            },
            "type": "bar"
           }
          ],
          "barpolar": [
           {
            "marker": {
             "line": {
              "color": "#E5ECF6",
              "width": 0.5
             },
             "pattern": {
              "fillmode": "overlay",
              "size": 10,
              "solidity": 0.2
             }
            },
            "type": "barpolar"
           }
          ],
          "carpet": [
           {
            "aaxis": {
             "endlinecolor": "#2a3f5f",
             "gridcolor": "white",
             "linecolor": "white",
             "minorgridcolor": "white",
             "startlinecolor": "#2a3f5f"
            },
            "baxis": {
             "endlinecolor": "#2a3f5f",
             "gridcolor": "white",
             "linecolor": "white",
             "minorgridcolor": "white",
             "startlinecolor": "#2a3f5f"
            },
            "type": "carpet"
           }
          ],
          "choropleth": [
           {
            "colorbar": {
             "outlinewidth": 0,
             "ticks": ""
            },
            "type": "choropleth"
           }
          ],
          "contour": [
           {
            "colorbar": {
             "outlinewidth": 0,
             "ticks": ""
            },
            "colorscale": [
             [
              0,
              "#0d0887"
             ],
             [
              0.1111111111111111,
              "#46039f"
             ],
             [
              0.2222222222222222,
              "#7201a8"
             ],
             [
              0.3333333333333333,
              "#9c179e"
             ],
             [
              0.4444444444444444,
              "#bd3786"
             ],
             [
              0.5555555555555556,
              "#d8576b"
             ],
             [
              0.6666666666666666,
              "#ed7953"
             ],
             [
              0.7777777777777778,
              "#fb9f3a"
             ],
             [
              0.8888888888888888,
              "#fdca26"
             ],
             [
              1,
              "#f0f921"
             ]
            ],
            "type": "contour"
           }
          ],
          "contourcarpet": [
           {
            "colorbar": {
             "outlinewidth": 0,
             "ticks": ""
            },
            "type": "contourcarpet"
           }
          ],
          "heatmap": [
           {
            "colorbar": {
             "outlinewidth": 0,
             "ticks": ""
            },
            "colorscale": [
             [
              0,
              "#0d0887"
             ],
             [
              0.1111111111111111,
              "#46039f"
             ],
             [
              0.2222222222222222,
              "#7201a8"
             ],
             [
              0.3333333333333333,
              "#9c179e"
             ],
             [
              0.4444444444444444,
              "#bd3786"
             ],
             [
              0.5555555555555556,
              "#d8576b"
             ],
             [
              0.6666666666666666,
              "#ed7953"
             ],
             [
              0.7777777777777778,
              "#fb9f3a"
             ],
             [
              0.8888888888888888,
              "#fdca26"
             ],
             [
              1,
              "#f0f921"
             ]
            ],
            "type": "heatmap"
           }
          ],
          "histogram": [
           {
            "marker": {
             "pattern": {
              "fillmode": "overlay",
              "size": 10,
              "solidity": 0.2
             }
            },
            "type": "histogram"
           }
          ],
          "histogram2d": [
           {
            "colorbar": {
             "outlinewidth": 0,
             "ticks": ""
            },
            "colorscale": [
             [
              0,
              "#0d0887"
             ],
             [
              0.1111111111111111,
              "#46039f"
             ],
             [
              0.2222222222222222,
              "#7201a8"
             ],
             [
              0.3333333333333333,
              "#9c179e"
             ],
             [
              0.4444444444444444,
              "#bd3786"
             ],
             [
              0.5555555555555556,
              "#d8576b"
             ],
             [
              0.6666666666666666,
              "#ed7953"
             ],
             [
              0.7777777777777778,
              "#fb9f3a"
             ],
             [
              0.8888888888888888,
              "#fdca26"
             ],
             [
              1,
              "#f0f921"
             ]
            ],
            "type": "histogram2d"
           }
          ],
          "histogram2dcontour": [
           {
            "colorbar": {
             "outlinewidth": 0,
             "ticks": ""
            },
            "colorscale": [
             [
              0,
              "#0d0887"
             ],
             [
              0.1111111111111111,
              "#46039f"
             ],
             [
              0.2222222222222222,
              "#7201a8"
             ],
             [
              0.3333333333333333,
              "#9c179e"
             ],
             [
              0.4444444444444444,
              "#bd3786"
             ],
             [
              0.5555555555555556,
              "#d8576b"
             ],
             [
              0.6666666666666666,
              "#ed7953"
             ],
             [
              0.7777777777777778,
              "#fb9f3a"
             ],
             [
              0.8888888888888888,
              "#fdca26"
             ],
             [
              1,
              "#f0f921"
             ]
            ],
            "type": "histogram2dcontour"
           }
          ],
          "mesh3d": [
           {
            "colorbar": {
             "outlinewidth": 0,
             "ticks": ""
            },
            "type": "mesh3d"
           }
          ],
          "parcoords": [
           {
            "line": {
             "colorbar": {
              "outlinewidth": 0,
              "ticks": ""
             }
            },
            "type": "parcoords"
           }
          ],
          "pie": [
           {
            "automargin": true,
            "type": "pie"
           }
          ],
          "scatter": [
           {
            "fillpattern": {
             "fillmode": "overlay",
             "size": 10,
             "solidity": 0.2
            },
            "type": "scatter"
           }
          ],
          "scatter3d": [
           {
            "line": {
             "colorbar": {
              "outlinewidth": 0,
              "ticks": ""
             }
            },
            "marker": {
             "colorbar": {
              "outlinewidth": 0,
              "ticks": ""
             }
            },
            "type": "scatter3d"
           }
          ],
          "scattercarpet": [
           {
            "marker": {
             "colorbar": {
              "outlinewidth": 0,
              "ticks": ""
             }
            },
            "type": "scattercarpet"
           }
          ],
          "scattergeo": [
           {
            "marker": {
             "colorbar": {
              "outlinewidth": 0,
              "ticks": ""
             }
            },
            "type": "scattergeo"
           }
          ],
          "scattergl": [
           {
            "marker": {
             "colorbar": {
              "outlinewidth": 0,
              "ticks": ""
             }
            },
            "type": "scattergl"
           }
          ],
          "scattermap": [
           {
            "marker": {
             "colorbar": {
              "outlinewidth": 0,
              "ticks": ""
             }
            },
            "type": "scattermap"
           }
          ],
          "scattermapbox": [
           {
            "marker": {
             "colorbar": {
              "outlinewidth": 0,
              "ticks": ""
             }
            },
            "type": "scattermapbox"
           }
          ],
          "scatterpolar": [
           {
            "marker": {
             "colorbar": {
              "outlinewidth": 0,
              "ticks": ""
             }
            },
            "type": "scatterpolar"
           }
          ],
          "scatterpolargl": [
           {
            "marker": {
             "colorbar": {
              "outlinewidth": 0,
              "ticks": ""
             }
            },
            "type": "scatterpolargl"
           }
          ],
          "scatterternary": [
           {
            "marker": {
             "colorbar": {
              "outlinewidth": 0,
              "ticks": ""
             }
            },
            "type": "scatterternary"
           }
          ],
          "surface": [
           {
            "colorbar": {
             "outlinewidth": 0,
             "ticks": ""
            },
            "colorscale": [
             [
              0,
              "#0d0887"
             ],
             [
              0.1111111111111111,
              "#46039f"
             ],
             [
              0.2222222222222222,
              "#7201a8"
             ],
             [
              0.3333333333333333,
              "#9c179e"
             ],
             [
              0.4444444444444444,
              "#bd3786"
             ],
             [
              0.5555555555555556,
              "#d8576b"
             ],
             [
              0.6666666666666666,
              "#ed7953"
             ],
             [
              0.7777777777777778,
              "#fb9f3a"
             ],
             [
              0.8888888888888888,
              "#fdca26"
             ],
             [
              1,
              "#f0f921"
             ]
            ],
            "type": "surface"
           }
          ],
          "table": [
           {
            "cells": {
             "fill": {
              "color": "#EBF0F8"
             },
             "line": {
              "color": "white"
             }
            },
            "header": {
             "fill": {
              "color": "#C8D4E3"
             },
             "line": {
              "color": "white"
             }
            },
            "type": "table"
           }
          ]
         },
         "layout": {
          "annotationdefaults": {
           "arrowcolor": "#2a3f5f",
           "arrowhead": 0,
           "arrowwidth": 1
          },
          "autotypenumbers": "strict",
          "coloraxis": {
           "colorbar": {
            "outlinewidth": 0,
            "ticks": ""
           }
          },
          "colorscale": {
           "diverging": [
            [
             0,
             "#8e0152"
            ],
            [
             0.1,
             "#c51b7d"
            ],
            [
             0.2,
             "#de77ae"
            ],
            [
             0.3,
             "#f1b6da"
            ],
            [
             0.4,
             "#fde0ef"
            ],
            [
             0.5,
             "#f7f7f7"
            ],
            [
             0.6,
             "#e6f5d0"
            ],
            [
             0.7,
             "#b8e186"
            ],
            [
             0.8,
             "#7fbc41"
            ],
            [
             0.9,
             "#4d9221"
            ],
            [
             1,
             "#276419"
            ]
           ],
           "sequential": [
            [
             0,
             "#0d0887"
            ],
            [
             0.1111111111111111,
             "#46039f"
            ],
            [
             0.2222222222222222,
             "#7201a8"
            ],
            [
             0.3333333333333333,
             "#9c179e"
            ],
            [
             0.4444444444444444,
             "#bd3786"
            ],
            [
             0.5555555555555556,
             "#d8576b"
            ],
            [
             0.6666666666666666,
             "#ed7953"
            ],
            [
             0.7777777777777778,
             "#fb9f3a"
            ],
            [
             0.8888888888888888,
             "#fdca26"
            ],
            [
             1,
             "#f0f921"
            ]
           ],
           "sequentialminus": [
            [
             0,
             "#0d0887"
            ],
            [
             0.1111111111111111,
             "#46039f"
            ],
            [
             0.2222222222222222,
             "#7201a8"
            ],
            [
             0.3333333333333333,
             "#9c179e"
            ],
            [
             0.4444444444444444,
             "#bd3786"
            ],
            [
             0.5555555555555556,
             "#d8576b"
            ],
            [
             0.6666666666666666,
             "#ed7953"
            ],
            [
             0.7777777777777778,
             "#fb9f3a"
            ],
            [
             0.8888888888888888,
             "#fdca26"
            ],
            [
             1,
             "#f0f921"
            ]
           ]
          },
          "colorway": [
           "#636efa",
           "#EF553B",
           "#00cc96",
           "#ab63fa",
           "#FFA15A",
           "#19d3f3",
           "#FF6692",
           "#B6E880",
           "#FF97FF",
           "#FECB52"
          ],
          "font": {
           "color": "#2a3f5f"
          },
          "geo": {
           "bgcolor": "white",
           "lakecolor": "white",
           "landcolor": "#E5ECF6",
           "showlakes": true,
           "showland": true,
           "subunitcolor": "white"
          },
          "hoverlabel": {
           "align": "left"
          },
          "hovermode": "closest",
          "mapbox": {
           "style": "light"
          },
          "paper_bgcolor": "white",
          "plot_bgcolor": "#E5ECF6",
          "polar": {
           "angularaxis": {
            "gridcolor": "white",
            "linecolor": "white",
            "ticks": ""
           },
           "bgcolor": "#E5ECF6",
           "radialaxis": {
            "gridcolor": "white",
            "linecolor": "white",
            "ticks": ""
           }
          },
          "scene": {
           "xaxis": {
            "backgroundcolor": "#E5ECF6",
            "gridcolor": "white",
            "gridwidth": 2,
            "linecolor": "white",
            "showbackground": true,
            "ticks": "",
            "zerolinecolor": "white"
           },
           "yaxis": {
            "backgroundcolor": "#E5ECF6",
            "gridcolor": "white",
            "gridwidth": 2,
            "linecolor": "white",
            "showbackground": true,
            "ticks": "",
            "zerolinecolor": "white"
           },
           "zaxis": {
            "backgroundcolor": "#E5ECF6",
            "gridcolor": "white",
            "gridwidth": 2,
            "linecolor": "white",
            "showbackground": true,
            "ticks": "",
            "zerolinecolor": "white"
           }
          },
          "shapedefaults": {
           "line": {
            "color": "#2a3f5f"
           }
          },
          "ternary": {
           "aaxis": {
            "gridcolor": "white",
            "linecolor": "white",
            "ticks": ""
           },
           "baxis": {
            "gridcolor": "white",
            "linecolor": "white",
            "ticks": ""
           },
           "bgcolor": "#E5ECF6",
           "caxis": {
            "gridcolor": "white",
            "linecolor": "white",
            "ticks": ""
           }
          },
          "title": {
           "x": 0.05
          },
          "xaxis": {
           "automargin": true,
           "gridcolor": "white",
           "linecolor": "white",
           "ticks": "",
           "title": {
            "standoff": 15
           },
           "zerolinecolor": "white",
           "zerolinewidth": 2
          },
          "yaxis": {
           "automargin": true,
           "gridcolor": "white",
           "linecolor": "white",
           "ticks": "",
           "title": {
            "standoff": 15
           },
           "zerolinecolor": "white",
           "zerolinewidth": 2
          }
         }
        },
        "title": {
         "text": "<b>Distribuição do Faturamento por DES_CATEGORIA_MATERIAL</b>"
        }
       }
      }
     },
     "metadata": {},
     "output_type": "display_data"
    }
   ],
   "source": [
    "col = 'DES_CATEGORIA_MATERIAL'\n",
    "\n",
    "df_grouped = df.groupby([col])['VL_RECEITA_BRUTA'].sum().astype(int).reset_index()\n",
    "\n",
    "\n",
    "fig = go.Figure(data=[go.Pie(labels=df_grouped[col], values=df_grouped['VL_RECEITA_BRUTA'], hole=.3, textinfo='label+percent')])\n",
    "fig.update_layout(title_text=f\"<b>Distribuição do Faturamento por {col}</b>\")\n",
    "fig.show()"
   ]
  },
  {
   "cell_type": "markdown",
   "id": "708e6acd",
   "metadata": {},
   "source": [
    "#### 3.3 Região da Venda (COD_REGIAO)"
   ]
  },
  {
   "cell_type": "code",
   "execution_count": 20,
   "id": "d655134c",
   "metadata": {},
   "outputs": [
    {
     "data": {
      "application/vnd.plotly.v1+json": {
       "config": {
        "plotlyServerURL": "https://plot.ly"
       },
       "data": [
        {
         "hole": 0.3,
         "labels": [
          "anon_S1",
          "anon_S10"
         ],
         "textinfo": "label+percent",
         "type": "pie",
         "values": [
          68526663859,
          44097151316
         ]
        }
       ],
       "layout": {
        "template": {
         "data": {
          "bar": [
           {
            "error_x": {
             "color": "#2a3f5f"
            },
            "error_y": {
             "color": "#2a3f5f"
            },
            "marker": {
             "line": {
              "color": "#E5ECF6",
              "width": 0.5
             },
             "pattern": {
              "fillmode": "overlay",
              "size": 10,
              "solidity": 0.2
             }
            },
            "type": "bar"
           }
          ],
          "barpolar": [
           {
            "marker": {
             "line": {
              "color": "#E5ECF6",
              "width": 0.5
             },
             "pattern": {
              "fillmode": "overlay",
              "size": 10,
              "solidity": 0.2
             }
            },
            "type": "barpolar"
           }
          ],
          "carpet": [
           {
            "aaxis": {
             "endlinecolor": "#2a3f5f",
             "gridcolor": "white",
             "linecolor": "white",
             "minorgridcolor": "white",
             "startlinecolor": "#2a3f5f"
            },
            "baxis": {
             "endlinecolor": "#2a3f5f",
             "gridcolor": "white",
             "linecolor": "white",
             "minorgridcolor": "white",
             "startlinecolor": "#2a3f5f"
            },
            "type": "carpet"
           }
          ],
          "choropleth": [
           {
            "colorbar": {
             "outlinewidth": 0,
             "ticks": ""
            },
            "type": "choropleth"
           }
          ],
          "contour": [
           {
            "colorbar": {
             "outlinewidth": 0,
             "ticks": ""
            },
            "colorscale": [
             [
              0,
              "#0d0887"
             ],
             [
              0.1111111111111111,
              "#46039f"
             ],
             [
              0.2222222222222222,
              "#7201a8"
             ],
             [
              0.3333333333333333,
              "#9c179e"
             ],
             [
              0.4444444444444444,
              "#bd3786"
             ],
             [
              0.5555555555555556,
              "#d8576b"
             ],
             [
              0.6666666666666666,
              "#ed7953"
             ],
             [
              0.7777777777777778,
              "#fb9f3a"
             ],
             [
              0.8888888888888888,
              "#fdca26"
             ],
             [
              1,
              "#f0f921"
             ]
            ],
            "type": "contour"
           }
          ],
          "contourcarpet": [
           {
            "colorbar": {
             "outlinewidth": 0,
             "ticks": ""
            },
            "type": "contourcarpet"
           }
          ],
          "heatmap": [
           {
            "colorbar": {
             "outlinewidth": 0,
             "ticks": ""
            },
            "colorscale": [
             [
              0,
              "#0d0887"
             ],
             [
              0.1111111111111111,
              "#46039f"
             ],
             [
              0.2222222222222222,
              "#7201a8"
             ],
             [
              0.3333333333333333,
              "#9c179e"
             ],
             [
              0.4444444444444444,
              "#bd3786"
             ],
             [
              0.5555555555555556,
              "#d8576b"
             ],
             [
              0.6666666666666666,
              "#ed7953"
             ],
             [
              0.7777777777777778,
              "#fb9f3a"
             ],
             [
              0.8888888888888888,
              "#fdca26"
             ],
             [
              1,
              "#f0f921"
             ]
            ],
            "type": "heatmap"
           }
          ],
          "histogram": [
           {
            "marker": {
             "pattern": {
              "fillmode": "overlay",
              "size": 10,
              "solidity": 0.2
             }
            },
            "type": "histogram"
           }
          ],
          "histogram2d": [
           {
            "colorbar": {
             "outlinewidth": 0,
             "ticks": ""
            },
            "colorscale": [
             [
              0,
              "#0d0887"
             ],
             [
              0.1111111111111111,
              "#46039f"
             ],
             [
              0.2222222222222222,
              "#7201a8"
             ],
             [
              0.3333333333333333,
              "#9c179e"
             ],
             [
              0.4444444444444444,
              "#bd3786"
             ],
             [
              0.5555555555555556,
              "#d8576b"
             ],
             [
              0.6666666666666666,
              "#ed7953"
             ],
             [
              0.7777777777777778,
              "#fb9f3a"
             ],
             [
              0.8888888888888888,
              "#fdca26"
             ],
             [
              1,
              "#f0f921"
             ]
            ],
            "type": "histogram2d"
           }
          ],
          "histogram2dcontour": [
           {
            "colorbar": {
             "outlinewidth": 0,
             "ticks": ""
            },
            "colorscale": [
             [
              0,
              "#0d0887"
             ],
             [
              0.1111111111111111,
              "#46039f"
             ],
             [
              0.2222222222222222,
              "#7201a8"
             ],
             [
              0.3333333333333333,
              "#9c179e"
             ],
             [
              0.4444444444444444,
              "#bd3786"
             ],
             [
              0.5555555555555556,
              "#d8576b"
             ],
             [
              0.6666666666666666,
              "#ed7953"
             ],
             [
              0.7777777777777778,
              "#fb9f3a"
             ],
             [
              0.8888888888888888,
              "#fdca26"
             ],
             [
              1,
              "#f0f921"
             ]
            ],
            "type": "histogram2dcontour"
           }
          ],
          "mesh3d": [
           {
            "colorbar": {
             "outlinewidth": 0,
             "ticks": ""
            },
            "type": "mesh3d"
           }
          ],
          "parcoords": [
           {
            "line": {
             "colorbar": {
              "outlinewidth": 0,
              "ticks": ""
             }
            },
            "type": "parcoords"
           }
          ],
          "pie": [
           {
            "automargin": true,
            "type": "pie"
           }
          ],
          "scatter": [
           {
            "fillpattern": {
             "fillmode": "overlay",
             "size": 10,
             "solidity": 0.2
            },
            "type": "scatter"
           }
          ],
          "scatter3d": [
           {
            "line": {
             "colorbar": {
              "outlinewidth": 0,
              "ticks": ""
             }
            },
            "marker": {
             "colorbar": {
              "outlinewidth": 0,
              "ticks": ""
             }
            },
            "type": "scatter3d"
           }
          ],
          "scattercarpet": [
           {
            "marker": {
             "colorbar": {
              "outlinewidth": 0,
              "ticks": ""
             }
            },
            "type": "scattercarpet"
           }
          ],
          "scattergeo": [
           {
            "marker": {
             "colorbar": {
              "outlinewidth": 0,
              "ticks": ""
             }
            },
            "type": "scattergeo"
           }
          ],
          "scattergl": [
           {
            "marker": {
             "colorbar": {
              "outlinewidth": 0,
              "ticks": ""
             }
            },
            "type": "scattergl"
           }
          ],
          "scattermap": [
           {
            "marker": {
             "colorbar": {
              "outlinewidth": 0,
              "ticks": ""
             }
            },
            "type": "scattermap"
           }
          ],
          "scattermapbox": [
           {
            "marker": {
             "colorbar": {
              "outlinewidth": 0,
              "ticks": ""
             }
            },
            "type": "scattermapbox"
           }
          ],
          "scatterpolar": [
           {
            "marker": {
             "colorbar": {
              "outlinewidth": 0,
              "ticks": ""
             }
            },
            "type": "scatterpolar"
           }
          ],
          "scatterpolargl": [
           {
            "marker": {
             "colorbar": {
              "outlinewidth": 0,
              "ticks": ""
             }
            },
            "type": "scatterpolargl"
           }
          ],
          "scatterternary": [
           {
            "marker": {
             "colorbar": {
              "outlinewidth": 0,
              "ticks": ""
             }
            },
            "type": "scatterternary"
           }
          ],
          "surface": [
           {
            "colorbar": {
             "outlinewidth": 0,
             "ticks": ""
            },
            "colorscale": [
             [
              0,
              "#0d0887"
             ],
             [
              0.1111111111111111,
              "#46039f"
             ],
             [
              0.2222222222222222,
              "#7201a8"
             ],
             [
              0.3333333333333333,
              "#9c179e"
             ],
             [
              0.4444444444444444,
              "#bd3786"
             ],
             [
              0.5555555555555556,
              "#d8576b"
             ],
             [
              0.6666666666666666,
              "#ed7953"
             ],
             [
              0.7777777777777778,
              "#fb9f3a"
             ],
             [
              0.8888888888888888,
              "#fdca26"
             ],
             [
              1,
              "#f0f921"
             ]
            ],
            "type": "surface"
           }
          ],
          "table": [
           {
            "cells": {
             "fill": {
              "color": "#EBF0F8"
             },
             "line": {
              "color": "white"
             }
            },
            "header": {
             "fill": {
              "color": "#C8D4E3"
             },
             "line": {
              "color": "white"
             }
            },
            "type": "table"
           }
          ]
         },
         "layout": {
          "annotationdefaults": {
           "arrowcolor": "#2a3f5f",
           "arrowhead": 0,
           "arrowwidth": 1
          },
          "autotypenumbers": "strict",
          "coloraxis": {
           "colorbar": {
            "outlinewidth": 0,
            "ticks": ""
           }
          },
          "colorscale": {
           "diverging": [
            [
             0,
             "#8e0152"
            ],
            [
             0.1,
             "#c51b7d"
            ],
            [
             0.2,
             "#de77ae"
            ],
            [
             0.3,
             "#f1b6da"
            ],
            [
             0.4,
             "#fde0ef"
            ],
            [
             0.5,
             "#f7f7f7"
            ],
            [
             0.6,
             "#e6f5d0"
            ],
            [
             0.7,
             "#b8e186"
            ],
            [
             0.8,
             "#7fbc41"
            ],
            [
             0.9,
             "#4d9221"
            ],
            [
             1,
             "#276419"
            ]
           ],
           "sequential": [
            [
             0,
             "#0d0887"
            ],
            [
             0.1111111111111111,
             "#46039f"
            ],
            [
             0.2222222222222222,
             "#7201a8"
            ],
            [
             0.3333333333333333,
             "#9c179e"
            ],
            [
             0.4444444444444444,
             "#bd3786"
            ],
            [
             0.5555555555555556,
             "#d8576b"
            ],
            [
             0.6666666666666666,
             "#ed7953"
            ],
            [
             0.7777777777777778,
             "#fb9f3a"
            ],
            [
             0.8888888888888888,
             "#fdca26"
            ],
            [
             1,
             "#f0f921"
            ]
           ],
           "sequentialminus": [
            [
             0,
             "#0d0887"
            ],
            [
             0.1111111111111111,
             "#46039f"
            ],
            [
             0.2222222222222222,
             "#7201a8"
            ],
            [
             0.3333333333333333,
             "#9c179e"
            ],
            [
             0.4444444444444444,
             "#bd3786"
            ],
            [
             0.5555555555555556,
             "#d8576b"
            ],
            [
             0.6666666666666666,
             "#ed7953"
            ],
            [
             0.7777777777777778,
             "#fb9f3a"
            ],
            [
             0.8888888888888888,
             "#fdca26"
            ],
            [
             1,
             "#f0f921"
            ]
           ]
          },
          "colorway": [
           "#636efa",
           "#EF553B",
           "#00cc96",
           "#ab63fa",
           "#FFA15A",
           "#19d3f3",
           "#FF6692",
           "#B6E880",
           "#FF97FF",
           "#FECB52"
          ],
          "font": {
           "color": "#2a3f5f"
          },
          "geo": {
           "bgcolor": "white",
           "lakecolor": "white",
           "landcolor": "#E5ECF6",
           "showlakes": true,
           "showland": true,
           "subunitcolor": "white"
          },
          "hoverlabel": {
           "align": "left"
          },
          "hovermode": "closest",
          "mapbox": {
           "style": "light"
          },
          "paper_bgcolor": "white",
          "plot_bgcolor": "#E5ECF6",
          "polar": {
           "angularaxis": {
            "gridcolor": "white",
            "linecolor": "white",
            "ticks": ""
           },
           "bgcolor": "#E5ECF6",
           "radialaxis": {
            "gridcolor": "white",
            "linecolor": "white",
            "ticks": ""
           }
          },
          "scene": {
           "xaxis": {
            "backgroundcolor": "#E5ECF6",
            "gridcolor": "white",
            "gridwidth": 2,
            "linecolor": "white",
            "showbackground": true,
            "ticks": "",
            "zerolinecolor": "white"
           },
           "yaxis": {
            "backgroundcolor": "#E5ECF6",
            "gridcolor": "white",
            "gridwidth": 2,
            "linecolor": "white",
            "showbackground": true,
            "ticks": "",
            "zerolinecolor": "white"
           },
           "zaxis": {
            "backgroundcolor": "#E5ECF6",
            "gridcolor": "white",
            "gridwidth": 2,
            "linecolor": "white",
            "showbackground": true,
            "ticks": "",
            "zerolinecolor": "white"
           }
          },
          "shapedefaults": {
           "line": {
            "color": "#2a3f5f"
           }
          },
          "ternary": {
           "aaxis": {
            "gridcolor": "white",
            "linecolor": "white",
            "ticks": ""
           },
           "baxis": {
            "gridcolor": "white",
            "linecolor": "white",
            "ticks": ""
           },
           "bgcolor": "#E5ECF6",
           "caxis": {
            "gridcolor": "white",
            "linecolor": "white",
            "ticks": ""
           }
          },
          "title": {
           "x": 0.05
          },
          "xaxis": {
           "automargin": true,
           "gridcolor": "white",
           "linecolor": "white",
           "ticks": "",
           "title": {
            "standoff": 15
           },
           "zerolinecolor": "white",
           "zerolinewidth": 2
          },
          "yaxis": {
           "automargin": true,
           "gridcolor": "white",
           "linecolor": "white",
           "ticks": "",
           "title": {
            "standoff": 15
           },
           "zerolinecolor": "white",
           "zerolinewidth": 2
          }
         }
        },
        "title": {
         "text": "<b>Distribuição do Faturamento por COD_REGIAO</b>"
        }
       }
      }
     },
     "metadata": {},
     "output_type": "display_data"
    }
   ],
   "source": [
    "col = 'COD_REGIAO'\n",
    "\n",
    "df_grouped = df.groupby([col])['VL_RECEITA_BRUTA'].sum().astype(int).reset_index()\n",
    "\n",
    "fig = go.Figure(data=[go.Pie(labels=df_grouped[col], values=df_grouped['VL_RECEITA_BRUTA'], hole=.3, textinfo='label+percent')])\n",
    "fig.update_layout(title_text=f\"<b>Distribuição do Faturamento por {col}</b>\")\n",
    "fig.show()"
   ]
  },
  {
   "cell_type": "markdown",
   "id": "88edbe39",
   "metadata": {},
   "source": [
    "#### 3.4 Campanhas de Marketing Ativas (FLG_CAMPANHA_MKT)"
   ]
  },
  {
   "cell_type": "markdown",
   "id": "7473bb59",
   "metadata": {},
   "source": [
    "- Nesta etapa, analisamos o desempenho individual das campanhas considerando apenas registros com uma única campanha ativa, e a categoria \"Outros\" no gráfico representa os registros sem campanha ou com múltiplas campanhas simultâneas."
   ]
  },
  {
   "cell_type": "code",
   "execution_count": 21,
   "id": "09f36bc3",
   "metadata": {},
   "outputs": [
    {
     "data": {
      "application/vnd.plotly.v1+json": {
       "config": {
        "plotlyServerURL": "https://plot.ly"
       },
       "data": [
        {
         "hole": 0.3,
         "labels": [
          "FLG_CAMPANHA_MKT_A",
          "FLG_CAMPANHA_MKT_B",
          "FLG_CAMPANHA_MKT_C",
          "FLG_CAMPANHA_MKT_D",
          "Outros"
         ],
         "textinfo": "label+percent",
         "type": "pie",
         "values": {
          "bdata": "mpkZz8mHt0HeJALvHiIfQomXA7Z/fsVBEZjlEP6g+EG81jO6lDQqQg==",
          "dtype": "f8"
         }
        }
       ],
       "layout": {
        "template": {
         "data": {
          "bar": [
           {
            "error_x": {
             "color": "#2a3f5f"
            },
            "error_y": {
             "color": "#2a3f5f"
            },
            "marker": {
             "line": {
              "color": "#E5ECF6",
              "width": 0.5
             },
             "pattern": {
              "fillmode": "overlay",
              "size": 10,
              "solidity": 0.2
             }
            },
            "type": "bar"
           }
          ],
          "barpolar": [
           {
            "marker": {
             "line": {
              "color": "#E5ECF6",
              "width": 0.5
             },
             "pattern": {
              "fillmode": "overlay",
              "size": 10,
              "solidity": 0.2
             }
            },
            "type": "barpolar"
           }
          ],
          "carpet": [
           {
            "aaxis": {
             "endlinecolor": "#2a3f5f",
             "gridcolor": "white",
             "linecolor": "white",
             "minorgridcolor": "white",
             "startlinecolor": "#2a3f5f"
            },
            "baxis": {
             "endlinecolor": "#2a3f5f",
             "gridcolor": "white",
             "linecolor": "white",
             "minorgridcolor": "white",
             "startlinecolor": "#2a3f5f"
            },
            "type": "carpet"
           }
          ],
          "choropleth": [
           {
            "colorbar": {
             "outlinewidth": 0,
             "ticks": ""
            },
            "type": "choropleth"
           }
          ],
          "contour": [
           {
            "colorbar": {
             "outlinewidth": 0,
             "ticks": ""
            },
            "colorscale": [
             [
              0,
              "#0d0887"
             ],
             [
              0.1111111111111111,
              "#46039f"
             ],
             [
              0.2222222222222222,
              "#7201a8"
             ],
             [
              0.3333333333333333,
              "#9c179e"
             ],
             [
              0.4444444444444444,
              "#bd3786"
             ],
             [
              0.5555555555555556,
              "#d8576b"
             ],
             [
              0.6666666666666666,
              "#ed7953"
             ],
             [
              0.7777777777777778,
              "#fb9f3a"
             ],
             [
              0.8888888888888888,
              "#fdca26"
             ],
             [
              1,
              "#f0f921"
             ]
            ],
            "type": "contour"
           }
          ],
          "contourcarpet": [
           {
            "colorbar": {
             "outlinewidth": 0,
             "ticks": ""
            },
            "type": "contourcarpet"
           }
          ],
          "heatmap": [
           {
            "colorbar": {
             "outlinewidth": 0,
             "ticks": ""
            },
            "colorscale": [
             [
              0,
              "#0d0887"
             ],
             [
              0.1111111111111111,
              "#46039f"
             ],
             [
              0.2222222222222222,
              "#7201a8"
             ],
             [
              0.3333333333333333,
              "#9c179e"
             ],
             [
              0.4444444444444444,
              "#bd3786"
             ],
             [
              0.5555555555555556,
              "#d8576b"
             ],
             [
              0.6666666666666666,
              "#ed7953"
             ],
             [
              0.7777777777777778,
              "#fb9f3a"
             ],
             [
              0.8888888888888888,
              "#fdca26"
             ],
             [
              1,
              "#f0f921"
             ]
            ],
            "type": "heatmap"
           }
          ],
          "histogram": [
           {
            "marker": {
             "pattern": {
              "fillmode": "overlay",
              "size": 10,
              "solidity": 0.2
             }
            },
            "type": "histogram"
           }
          ],
          "histogram2d": [
           {
            "colorbar": {
             "outlinewidth": 0,
             "ticks": ""
            },
            "colorscale": [
             [
              0,
              "#0d0887"
             ],
             [
              0.1111111111111111,
              "#46039f"
             ],
             [
              0.2222222222222222,
              "#7201a8"
             ],
             [
              0.3333333333333333,
              "#9c179e"
             ],
             [
              0.4444444444444444,
              "#bd3786"
             ],
             [
              0.5555555555555556,
              "#d8576b"
             ],
             [
              0.6666666666666666,
              "#ed7953"
             ],
             [
              0.7777777777777778,
              "#fb9f3a"
             ],
             [
              0.8888888888888888,
              "#fdca26"
             ],
             [
              1,
              "#f0f921"
             ]
            ],
            "type": "histogram2d"
           }
          ],
          "histogram2dcontour": [
           {
            "colorbar": {
             "outlinewidth": 0,
             "ticks": ""
            },
            "colorscale": [
             [
              0,
              "#0d0887"
             ],
             [
              0.1111111111111111,
              "#46039f"
             ],
             [
              0.2222222222222222,
              "#7201a8"
             ],
             [
              0.3333333333333333,
              "#9c179e"
             ],
             [
              0.4444444444444444,
              "#bd3786"
             ],
             [
              0.5555555555555556,
              "#d8576b"
             ],
             [
              0.6666666666666666,
              "#ed7953"
             ],
             [
              0.7777777777777778,
              "#fb9f3a"
             ],
             [
              0.8888888888888888,
              "#fdca26"
             ],
             [
              1,
              "#f0f921"
             ]
            ],
            "type": "histogram2dcontour"
           }
          ],
          "mesh3d": [
           {
            "colorbar": {
             "outlinewidth": 0,
             "ticks": ""
            },
            "type": "mesh3d"
           }
          ],
          "parcoords": [
           {
            "line": {
             "colorbar": {
              "outlinewidth": 0,
              "ticks": ""
             }
            },
            "type": "parcoords"
           }
          ],
          "pie": [
           {
            "automargin": true,
            "type": "pie"
           }
          ],
          "scatter": [
           {
            "fillpattern": {
             "fillmode": "overlay",
             "size": 10,
             "solidity": 0.2
            },
            "type": "scatter"
           }
          ],
          "scatter3d": [
           {
            "line": {
             "colorbar": {
              "outlinewidth": 0,
              "ticks": ""
             }
            },
            "marker": {
             "colorbar": {
              "outlinewidth": 0,
              "ticks": ""
             }
            },
            "type": "scatter3d"
           }
          ],
          "scattercarpet": [
           {
            "marker": {
             "colorbar": {
              "outlinewidth": 0,
              "ticks": ""
             }
            },
            "type": "scattercarpet"
           }
          ],
          "scattergeo": [
           {
            "marker": {
             "colorbar": {
              "outlinewidth": 0,
              "ticks": ""
             }
            },
            "type": "scattergeo"
           }
          ],
          "scattergl": [
           {
            "marker": {
             "colorbar": {
              "outlinewidth": 0,
              "ticks": ""
             }
            },
            "type": "scattergl"
           }
          ],
          "scattermap": [
           {
            "marker": {
             "colorbar": {
              "outlinewidth": 0,
              "ticks": ""
             }
            },
            "type": "scattermap"
           }
          ],
          "scattermapbox": [
           {
            "marker": {
             "colorbar": {
              "outlinewidth": 0,
              "ticks": ""
             }
            },
            "type": "scattermapbox"
           }
          ],
          "scatterpolar": [
           {
            "marker": {
             "colorbar": {
              "outlinewidth": 0,
              "ticks": ""
             }
            },
            "type": "scatterpolar"
           }
          ],
          "scatterpolargl": [
           {
            "marker": {
             "colorbar": {
              "outlinewidth": 0,
              "ticks": ""
             }
            },
            "type": "scatterpolargl"
           }
          ],
          "scatterternary": [
           {
            "marker": {
             "colorbar": {
              "outlinewidth": 0,
              "ticks": ""
             }
            },
            "type": "scatterternary"
           }
          ],
          "surface": [
           {
            "colorbar": {
             "outlinewidth": 0,
             "ticks": ""
            },
            "colorscale": [
             [
              0,
              "#0d0887"
             ],
             [
              0.1111111111111111,
              "#46039f"
             ],
             [
              0.2222222222222222,
              "#7201a8"
             ],
             [
              0.3333333333333333,
              "#9c179e"
             ],
             [
              0.4444444444444444,
              "#bd3786"
             ],
             [
              0.5555555555555556,
              "#d8576b"
             ],
             [
              0.6666666666666666,
              "#ed7953"
             ],
             [
              0.7777777777777778,
              "#fb9f3a"
             ],
             [
              0.8888888888888888,
              "#fdca26"
             ],
             [
              1,
              "#f0f921"
             ]
            ],
            "type": "surface"
           }
          ],
          "table": [
           {
            "cells": {
             "fill": {
              "color": "#EBF0F8"
             },
             "line": {
              "color": "white"
             }
            },
            "header": {
             "fill": {
              "color": "#C8D4E3"
             },
             "line": {
              "color": "white"
             }
            },
            "type": "table"
           }
          ]
         },
         "layout": {
          "annotationdefaults": {
           "arrowcolor": "#2a3f5f",
           "arrowhead": 0,
           "arrowwidth": 1
          },
          "autotypenumbers": "strict",
          "coloraxis": {
           "colorbar": {
            "outlinewidth": 0,
            "ticks": ""
           }
          },
          "colorscale": {
           "diverging": [
            [
             0,
             "#8e0152"
            ],
            [
             0.1,
             "#c51b7d"
            ],
            [
             0.2,
             "#de77ae"
            ],
            [
             0.3,
             "#f1b6da"
            ],
            [
             0.4,
             "#fde0ef"
            ],
            [
             0.5,
             "#f7f7f7"
            ],
            [
             0.6,
             "#e6f5d0"
            ],
            [
             0.7,
             "#b8e186"
            ],
            [
             0.8,
             "#7fbc41"
            ],
            [
             0.9,
             "#4d9221"
            ],
            [
             1,
             "#276419"
            ]
           ],
           "sequential": [
            [
             0,
             "#0d0887"
            ],
            [
             0.1111111111111111,
             "#46039f"
            ],
            [
             0.2222222222222222,
             "#7201a8"
            ],
            [
             0.3333333333333333,
             "#9c179e"
            ],
            [
             0.4444444444444444,
             "#bd3786"
            ],
            [
             0.5555555555555556,
             "#d8576b"
            ],
            [
             0.6666666666666666,
             "#ed7953"
            ],
            [
             0.7777777777777778,
             "#fb9f3a"
            ],
            [
             0.8888888888888888,
             "#fdca26"
            ],
            [
             1,
             "#f0f921"
            ]
           ],
           "sequentialminus": [
            [
             0,
             "#0d0887"
            ],
            [
             0.1111111111111111,
             "#46039f"
            ],
            [
             0.2222222222222222,
             "#7201a8"
            ],
            [
             0.3333333333333333,
             "#9c179e"
            ],
            [
             0.4444444444444444,
             "#bd3786"
            ],
            [
             0.5555555555555556,
             "#d8576b"
            ],
            [
             0.6666666666666666,
             "#ed7953"
            ],
            [
             0.7777777777777778,
             "#fb9f3a"
            ],
            [
             0.8888888888888888,
             "#fdca26"
            ],
            [
             1,
             "#f0f921"
            ]
           ]
          },
          "colorway": [
           "#636efa",
           "#EF553B",
           "#00cc96",
           "#ab63fa",
           "#FFA15A",
           "#19d3f3",
           "#FF6692",
           "#B6E880",
           "#FF97FF",
           "#FECB52"
          ],
          "font": {
           "color": "#2a3f5f"
          },
          "geo": {
           "bgcolor": "white",
           "lakecolor": "white",
           "landcolor": "#E5ECF6",
           "showlakes": true,
           "showland": true,
           "subunitcolor": "white"
          },
          "hoverlabel": {
           "align": "left"
          },
          "hovermode": "closest",
          "mapbox": {
           "style": "light"
          },
          "paper_bgcolor": "white",
          "plot_bgcolor": "#E5ECF6",
          "polar": {
           "angularaxis": {
            "gridcolor": "white",
            "linecolor": "white",
            "ticks": ""
           },
           "bgcolor": "#E5ECF6",
           "radialaxis": {
            "gridcolor": "white",
            "linecolor": "white",
            "ticks": ""
           }
          },
          "scene": {
           "xaxis": {
            "backgroundcolor": "#E5ECF6",
            "gridcolor": "white",
            "gridwidth": 2,
            "linecolor": "white",
            "showbackground": true,
            "ticks": "",
            "zerolinecolor": "white"
           },
           "yaxis": {
            "backgroundcolor": "#E5ECF6",
            "gridcolor": "white",
            "gridwidth": 2,
            "linecolor": "white",
            "showbackground": true,
            "ticks": "",
            "zerolinecolor": "white"
           },
           "zaxis": {
            "backgroundcolor": "#E5ECF6",
            "gridcolor": "white",
            "gridwidth": 2,
            "linecolor": "white",
            "showbackground": true,
            "ticks": "",
            "zerolinecolor": "white"
           }
          },
          "shapedefaults": {
           "line": {
            "color": "#2a3f5f"
           }
          },
          "ternary": {
           "aaxis": {
            "gridcolor": "white",
            "linecolor": "white",
            "ticks": ""
           },
           "baxis": {
            "gridcolor": "white",
            "linecolor": "white",
            "ticks": ""
           },
           "bgcolor": "#E5ECF6",
           "caxis": {
            "gridcolor": "white",
            "linecolor": "white",
            "ticks": ""
           }
          },
          "title": {
           "x": 0.05
          },
          "xaxis": {
           "automargin": true,
           "gridcolor": "white",
           "linecolor": "white",
           "ticks": "",
           "title": {
            "standoff": 15
           },
           "zerolinecolor": "white",
           "zerolinewidth": 2
          },
          "yaxis": {
           "automargin": true,
           "gridcolor": "white",
           "linecolor": "white",
           "ticks": "",
           "title": {
            "standoff": 15
           },
           "zerolinecolor": "white",
           "zerolinewidth": 2
          }
         }
        },
        "title": {
         "text": "<b>% do Faturamento Total por FLG_CAMPANHA_MKT</b>"
        }
       }
      }
     },
     "metadata": {},
     "output_type": "display_data"
    }
   ],
   "source": [
    "col = 'FLG_CAMPANHA_MKT'\n",
    "\n",
    "# Explode campanhas ativas para uma linha por campanha (quando só 1 está ativa)\n",
    "df_melt = df[df['NUM_CAMPANHAS_ATIVAS'] == 1].melt(\n",
    "    id_vars=['VL_RECEITA_LIQUIDA'],\n",
    "    value_vars=campanha_flags,\n",
    "    var_name=col,\n",
    "    value_name='Ativa'\n",
    ")\n",
    "\n",
    "# Filtra campanhas ativas\n",
    "df_melt = df_melt[df_melt['Ativa'] == 1]\n",
    "\n",
    "# Agrupa soma e mediana da receita por campanha\n",
    "df_grouped = df_melt.groupby(col)['VL_RECEITA_LIQUIDA'].agg(Receita_Total='sum').reset_index()\n",
    "\n",
    "# Calcula receita que não pertence a campanhas únicas\n",
    "receita_outros = df['VL_RECEITA_LIQUIDA'].sum() - df_grouped['Receita_Total'].sum()\n",
    "\n",
    "# Adiciona categoria \"Outros\"\n",
    "df_grouped = pd.concat([\n",
    "    df_grouped,\n",
    "    pd.DataFrame({col: ['Outros'], 'Receita_Total': [receita_outros]})\n",
    "], ignore_index=True)\n",
    "\n",
    "# Gráfico de pizza com participação das campanhas\n",
    "fig = go.Figure(data=[go.Pie(\n",
    "    labels=df_grouped[col],\n",
    "    values=df_grouped['Receita_Total'],\n",
    "    hole=.3,\n",
    "    textinfo='label+percent'\n",
    ")])\n",
    "\n",
    "fig.update_layout(title_text=f\"<b>% do Faturamento Total por {col}</b>\")\n",
    "fig.show()\n"
   ]
  },
  {
   "cell_type": "markdown",
   "id": "7e911fc7",
   "metadata": {},
   "source": [
    "#### Conclusões Finais\n",
    "\n",
    "A análise dos dados permitiu identificar padrões relevantes no comportamento de vendas e no impacto das campanhas de marketing. Abaixo, destacamos os principais pontos:\n",
    "\n",
    "- Categoria do Material: A categoria anon_S12 concentra a maior parte do faturamento, evidenciando sua forte influência nas vendas.\n",
    "\n",
    "- Campanhas de Marketing: Campanhas ativas, em especial a Campanha B, tiveram grande impacto na geração de receita."
   ]
  },
  {
   "cell_type": "markdown",
   "id": "0f72a406",
   "metadata": {},
   "source": [
    "--------------------"
   ]
  },
  {
   "cell_type": "markdown",
   "id": "286ef3ef",
   "metadata": {},
   "source": [
    "## 4. Análise Temporal "
   ]
  },
  {
   "cell_type": "markdown",
   "id": "c84202cd",
   "metadata": {},
   "source": [
    "Nesta etapa, exploramos as vendas e devoluções ao longo do tempo, considerando períodos definidos por ano e ciclo. O objetivo é identificar padrões e efeitos das campanhas que possam influenciar a previsão de demanda."
   ]
  },
  {
   "cell_type": "markdown",
   "id": "80fa9419",
   "metadata": {},
   "source": [
    "#### 4.1 Faturamento Bruto por Ano e Ciclo\n"
   ]
  },
  {
   "cell_type": "markdown",
   "id": "39023e07",
   "metadata": {},
   "source": [
    "Vamos mostrar a evolução do faturamento ao longo dos períodos, evidenciando tendências e sazonalidades."
   ]
  },
  {
   "cell_type": "code",
   "execution_count": 22,
   "id": "caf00358",
   "metadata": {},
   "outputs": [
    {
     "data": {
      "image/png": "[encoded data removed]",
      "text/plain": [
       "<Figure size 1200x600 with 1 Axes>"
      ]
     },
     "metadata": {},
     "output_type": "display_data"
    }
   ],
   "source": [
    "df_grouped = df.groupby(['ANO', 'CICLO']).agg({\n",
    "    'QT_VENDA_BRUTO': 'sum'\n",
    "}).reset_index()\n",
    "\n",
    "anos = sorted(df_grouped['ANO'].unique())\n",
    "\n",
    "for ano in anos:\n",
    "    df_ano = df_grouped[df_grouped['ANO'] == ano]\n",
    "    plt.plot(df_ano['CICLO'], df_ano['QT_VENDA_BRUTO'], marker='o', label=str(ano))\n",
    "\n",
    "plt.title('Quantidade Vendida por Ciclo e Ano')\n",
    "plt.xlabel('Ciclo')\n",
    "plt.ylabel('Quantidade Vendida (QT_VENDA_BRUTO)')\n",
    "plt.legend(title='Ano')\n",
    "plt.grid(True)\n",
    "plt.show()\n"
   ]
  },
  {
   "cell_type": "markdown",
   "id": "829b57ec",
   "metadata": {},
   "source": [
    "#### 4.2 Percentual de Devoluções por Ano e Ciclo"
   ]
  },
  {
   "cell_type": "markdown",
   "id": "fda65154",
   "metadata": {},
   "source": [
    "Vamos apresentar a variação das devoluções ao longo do tempo, mostrando uma possível tendencia."
   ]
  },
  {
   "cell_type": "code",
   "execution_count": 23,
   "id": "cd976461",
   "metadata": {},
   "outputs": [
    {
     "data": {
      "image/png": "[encoded data removed]",
      "text/plain": [
       "<Figure size 1200x600 with 1 Axes>"
      ]
     },
     "metadata": {},
     "output_type": "display_data"
    }
   ],
   "source": [
    "# Agrupar por ANO e CICLO somando vendas e devoluções\n",
    "df_grouped = df.groupby(['ANO', 'CICLO']).agg({\n",
    "    'QT_VENDA_BRUTO': 'sum',\n",
    "    'QT_DEVOLUCAO': 'sum'\n",
    "}).reset_index()\n",
    "\n",
    "# Calcular porcentagem de devolução\n",
    "df_grouped['PCT_DEVOLUCAO'] = (df_grouped['QT_DEVOLUCAO'] / (df_grouped['QT_VENDA_BRUTO'] + df_grouped['QT_DEVOLUCAO'])) * 100\n",
    "\n",
    "for ano in anos:\n",
    "    df_ano = df_grouped[df_grouped['ANO'] == ano]\n",
    "    plt.plot(df_ano['CICLO'], df_ano['PCT_DEVOLUCAO'], marker='o', label=str(ano))\n",
    "\n",
    "plt.title('Porcentagem de Produtos Devolvidos por Ciclo e Ano')\n",
    "plt.xlabel('Ciclo')\n",
    "plt.ylabel('Porcentagem de Produtos Devolvidos (%)')\n",
    "plt.legend(title='Ano')\n",
    "plt.grid(True)\n",
    "plt.show()"
   ]
  },
  {
   "cell_type": "markdown",
   "id": "86baa429",
   "metadata": {},
   "source": [
    "#### 4.3 Quantidade Vendida com e sem Campanha (%)"
   ]
  },
  {
   "cell_type": "markdown",
   "id": "1da8120d",
   "metadata": {},
   "source": [
    "Vamos comparar a participação percentual das vendas em períodos com e sem campanhas de marketing, avaliando o efeito das promoções."
   ]
  },
  {
   "cell_type": "code",
   "execution_count": 24,
   "id": "95305272",
   "metadata": {},
   "outputs": [
    {
     "data": {
      "image/png": "[encoded data removed]",
      "text/plain": [
       "<Figure size 1400x700 with 1 Axes>"
      ]
     },
     "metadata": {},
     "output_type": "display_data"
    }
   ],
   "source": [
    "df['COM_CAMPANHA'] = df['NUM_CAMPANHAS_ATIVAS'].apply(lambda x: 'Com Campanha' if x == 0 else 'Sem Campanha')\n",
    "\n",
    "df_grouped = df.groupby(['ANO', 'CICLO', 'COM_CAMPANHA'])['VL_RECEITA_LIQUIDA'].sum().reset_index()\n",
    "df_pivot = df_grouped.pivot_table(index=['ANO', 'CICLO'], columns='COM_CAMPANHA', values='VL_RECEITA_LIQUIDA', fill_value=0)\n",
    "df_pivot.columns = ['Sem Campanha', 'Com Campanha']\n",
    "\n",
    "df_pivot_pct = df_pivot.div(df_pivot.sum(axis=1), axis=0) * 100\n",
    "\n",
    "ax = df_pivot_pct.plot(kind='bar', stacked=True, figsize=(14,7), colormap='Paired')\n",
    "plt.title('Percentual de Receita Bruta por Período: Com Campanha vs Sem Campanha')\n",
    "plt.xlabel('Período (Ano, Ciclo)')\n",
    "plt.ylabel('Percentual (%)')\n",
    "plt.legend(title='Campanha')\n",
    "plt.xticks(rotation=45)\n",
    "plt.tight_layout()\n",
    "\n",
    "total = df_pivot.sum()\n",
    "total_pct = (total / total.sum()) * 100\n",
    "\n",
    "x_pos = -0.5\n",
    "y_pos = 105\n",
    "\n",
    "text = f'Total Sem Campanha: {total_pct[\"Sem Campanha\"]:.2f}%\\nTotal Com Campanha: {total_pct[\"Com Campanha\"]:.2f}%'\n",
    "ax.text(x_pos, y_pos, text, fontsize=12, ha='left', va='bottom', bbox=dict(facecolor='white', alpha=0.7))\n",
    "\n",
    "plt.show()"
   ]
  },
  {
   "cell_type": "markdown",
   "id": "5cb63881",
   "metadata": {},
   "source": [
    "Conclusões das Análises Temporais:\n",
    "\n",
    "4.1 Faturamento Bruto por Ano e Ciclo\n",
    "Observa-se que a receita bruta se mantém estável ao longo dos três anos, com uma clara sazonalidade no início e no fim de cada ano, nos primeiros e últimos ciclos.\n",
    "\n",
    "4.2 Percentual de Devoluções por Ano e Ciclo\n",
    "O percentual de devoluções apresenta uma queda consistente nos últimos anos, indicando uma melhoria positiva.\n",
    "\n",
    "4.3 Quantidade Vendida com e sem Campanha (%)\n",
    "No geral, a receita nos ciclos com campanha é aproximadamente o dobro da receita nos ciclos sem campanha, destacando o impacto positivo das campanhas nas vendas."
   ]
  },
  {
   "cell_type": "markdown",
   "id": "6c4e7f85",
   "metadata": {},
   "source": [
    "Agora que a análise foi concluída, vamos avançar para a criação do modelo que irá prever a quantidade de itens vendidos."
   ]
  }
 ],
 "metadata": {
  "kernelspec": {
   "display_name": "Python 3",
   "language": "python",
   "name": "python3"
  },
  "language_info": {
   "codemirror_mode": {
    "name": "ipython",
    "version": 3
   },
   "file_extension": ".py",
   "mimetype": "text/x-python",
   "name": "python",
   "nbconvert_exporter": "python",
   "pygments_lexer": "ipython3",
   "version": "3.11.3"
  }
 },
 "nbformat": 4,
 "nbformat_minor": 5
}
